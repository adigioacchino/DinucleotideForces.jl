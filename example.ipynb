{
 "cells": [
  {
   "cell_type": "markdown",
   "id": "a45f9e3d",
   "metadata": {},
   "source": [
    "# Tutorial notebook for dinucleotide forces computation\n",
    "\n",
    "We will take an example genome and we will use it as working example to test the function of the scripts."
   ]
  },
  {
   "cell_type": "code",
   "execution_count": 1,
   "id": "bbb231d3",
   "metadata": {},
   "outputs": [],
   "source": [
    "# load the genome - this is an Influenza H5N1 PB2 segment, strain used: A/Anhui/1/2005\n",
    "sequence = \"ATGGAGAGAATAAAAGAATTAAGGGATCTAATGTCACAGTCCCGCACTCGCGAGATACTAACAAAAACCACTGTGGACCATATGGCCATAATCAAGAAGTACACATCAGGAAGACAAGAGAAGAACCCTGCTCTCAGAATGAAATGGATGATGGCAATGAAATATCCAATCACAGCGGACAAGAGAATAACAGAGATGATTCCTGAAAGGAATGAACAAGGGCAGACGCTCTGGAGCAAGACAAATGATGCCGGATCGGACAGGTTGATGGTGTCTCCCTTAGCTGTAACTTGGTGGAATAGGAATGGGCCGACGACAAGTGCAGTCCATTATCCAAAGGTTTACAAAACATACTTTGAGAAGGCTGAAAGGCTAAAACATGGAACCTTCGGTCCCGTCCATTTTCGAAACCAAGTTAAAATACGCCGCCGAGTTGATATAAATCCTGGCCATGCAGATCTCAGTGCTAAAGAAGCACAAGATGTCATCATGGAGGTCGTTTTCCCAAATGAAGTGGGAGCTAGAATATTGACATCAGAGTCACAATTGACAATAACGAAAGAGAAGAAAGAAGAGCTCCAAGATTGTAAGATTGCTCCCTTAATGGTTGCATACATGTTGGAAAGGGAACTGGTCCGCAAAACCAGATTCCTACCGGTAGCAAGCGGAACAAGCAGTGTGTACATTGAGGTATTGCATTTGACTCAAGGGACCTGCTGGGAACAGATGTACACTCCAGGCGGAGAAGTGAGAAACGACGATGTTGACCAGAGTTTGATCATCGCTGCCAGAAACATTGTTAGGAGAGCAACGGTATCAGCGGATCCACTGGCATCACTGCTGGAGATGTGTCACAGCACACAAATTGGTGGGATAAGGATGGTGGACATCCTTAGGCAAAACCCAACTGAGGAACAAGCTGTGGGTATATGCAAAGCAGCAATGGGTCTGAGGATCAGTTCATCCTTTAGCTTTGGAGGCTTCACTTTCAAAAGAACAAGTGGATCATCCGTCACGAAGGAAGAGGAAGTGCTTACAGGCAACCTCCAAACATTGAAAATAAGAGTACATGAGGGGTATGAAGAGTTCACAATGGTTGGACGGAGGGCAACAGCTATCCTGAGGAAAGCAACTAGAAGGCTGATTCAGTTGATAGTAAGTGGAAGAGACGAACAATCAATCGCTGAGGCAATCATTGTAGCAATGGTGTTCTCACAGGAGGATTGCATGATAAAGGCAGTCCGGGGCGATTTGAATTTCGTAAACAGAGCAAACCAAAGATTAAACCCCATGCATCAACTCCTGAGACATTTTCAAAAGGACGCAAAAGTGCTATTTCAGAATTGGGGAATTGAACCCATTGATAATGTCATGGGGATGATCGGAATATTACCTGACCTGACTCCCAGCACAGAAATGTCACTGAGAAGAGTAAGAGTTAGTAAAGTGGGAGTGGATGAATATTCCAGCACTGAGAGAGTAATTGTAAGTATTGACCGTTTCTTAAGGGTTCGAGATCAGCGGGGGAACGTACTCTTATCTCCCGAAGAGGTCAGCGAAACCCAGGGAACAGAGAAATTGACAATAACATATTCATCATCAATGATGTGGGAAATCAACGGTCCTGAGTCAGTGCTTGTTAACACCTATCAATGGATCATCAGAAACTGGGAAACTGTGAAGATTCAATGGTCTCAAGACCCCACGATGCTGTACAATAAGATGGAGTTTGAACCGTTCCAATCCTTGGTACCTAAGGCTGCCAGAGGTCAATACAGTGGATTTGTGAGAACACTATTCCAACAAATGCGTGACGTACTGGGGACATTTGATACTGTCCAGATAATAAAGCTGCTACCATTTGCAGCAGCCCCACCAGAGCAGAGCAGAATGCAGTTTTCTTCTCTAACTGTGAATGTGAGAGGCTCAGGAATGAGAATACTCGTAAGGGGCAATTCCCCTGTGTTCAACTACAATAAGGCAACCAAAAGGCTTACCGTTCTTGGAAAGGACGCAGGTGCATTAACAGAGGATCCAGATGAGGGGACAACCGGAGTGGAGTCTGCAGTACTGAGGGAATTCCTAATTCTAGGCAAGGAGGACAAAAGATATGGACCAGCATTGAGTATCAATGAACTGAGCAACCTTGCGAAAGGGGAGAAAGCTAATGTGCTGATAGGACAAGGAGACGTGGTGTTGGTAATGAAACGGAAACGGGACTCTAGCATACTTACTGACAGCCAGACAGCGACCAAAAGAATTCGGATGGCCATCAATTAG\";"
   ]
  },
  {
   "cell_type": "markdown",
   "id": "8845508e",
   "metadata": {},
   "source": [
    "## Non-coding forces"
   ]
  },
  {
   "cell_type": "code",
   "execution_count": 3,
   "id": "08b174db",
   "metadata": {},
   "outputs": [
    {
     "name": "stderr",
     "output_type": "stream",
     "text": [
      "┌ Info: Precompiling NoncodingForces_v2_1 [top-level]\n",
      "└ @ Base loading.jl:1317\n"
     ]
    }
   ],
   "source": [
    "package_path = \"./\"\n",
    "!in(package_path, LOAD_PATH) && push!(LOAD_PATH, package_path)\n",
    "using NoncodingForces_v2_1"
   ]
  },
  {
   "cell_type": "markdown",
   "id": "0c5939c3",
   "metadata": {},
   "source": [
    "Let's start by computing the force on the CpG motif along the full genome:"
   ]
  },
  {
   "cell_type": "code",
   "execution_count": 5,
   "id": "5007cec4",
   "metadata": {},
   "outputs": [
    {
     "data": {
      "text/plain": [
       "Dict{String, Float64} with 5 entries:\n",
       "  \"A\"  => -1.1779\n",
       "  \"T\"  => -1.61537\n",
       "  \"C\"  => -1.52913\n",
       "  \"CG\" => -0.995938\n",
       "  \"G\"  => -1.28543"
      ]
     },
     "execution_count": 5,
     "metadata": {},
     "output_type": "execute_result"
    }
   ],
   "source": [
    "motifs = [\"CG\"]\n",
    "\n",
    "NoncodingForces_v2_1.DimerForce(sequence, motifs)"
   ]
  },
  {
   "cell_type": "markdown",
   "id": "30e45f54",
   "metadata": {},
   "source": [
    "When no nucleotide biases (frequencies) are specified, as above, the corresponding fields are inferred together with the forces. \n",
    "Notice that $\\sum_n e^{h_n} = 1$, where $n \\in \\{A,C,G,T\\}$. This is the result of a gauge choice, because in general the model probabilities are invariant under the transformation\n",
    "$$ h_n \\to h_n+K, $$\n",
    "which can then be used to make them interpretable as the logarithm of a frequency.\n",
    "\n",
    "A user-specified bias can be given, and in this case fields are not inferred:"
   ]
  },
  {
   "cell_type": "code",
   "execution_count": 7,
   "id": "2db0b4f9",
   "metadata": {},
   "outputs": [
    {
     "data": {
      "text/plain": [
       "Dict{String, Float64} with 1 entry:\n",
       "  \"CG\" => -1.04766"
      ]
     },
     "execution_count": 7,
     "metadata": {},
     "output_type": "execute_result"
    }
   ],
   "source": [
    "nt_bias = [0.25, 0.25, 0.25, 0.25] # probs for A, C, G, T\n",
    "motifs = [\"CG\"]\n",
    "\n",
    "NoncodingForces_v2_1.DimerForce(sequence, motifs; freqs=nt_bias)"
   ]
  },
  {
   "cell_type": "markdown",
   "id": "30e60166",
   "metadata": {},
   "source": [
    "The script easily allow to compute forces on two or more dinucleotides:"
   ]
  },
  {
   "cell_type": "code",
   "execution_count": 8,
   "id": "d9feef0e",
   "metadata": {},
   "outputs": [
    {
     "data": {
      "text/plain": [
       "Dict{String, Float64} with 6 entries:\n",
       "  \"A\"  => -1.11739\n",
       "  \"T\"  => -1.48581\n",
       "  \"C\"  => -1.63146\n",
       "  \"CG\" => -0.912403\n",
       "  \"G\"  => -1.38268\n",
       "  \"TA\" => -0.761354"
      ]
     },
     "execution_count": 8,
     "metadata": {},
     "output_type": "execute_result"
    }
   ],
   "source": [
    "motifs = [\"CG\", \"TA\"]\n",
    "\n",
    "NoncodingForces_v2_1.DimerForce(sequence, motifs)"
   ]
  },
  {
   "cell_type": "markdown",
   "id": "08b4c206",
   "metadata": {},
   "source": [
    "Notice how the CpG force changed in the 3 cases, due to the fact that different motifs (as well as fields) interact. \n",
    "When the full set of dinucleotides is inferred, the system of equations solved to obtain forces is underdetermined. This means that a gauge choice must be made, for instance by setting some forces to zero by passing less than 16 dinucleotides as motifs.\n",
    "If such a choise is not made, the script does it, as follows:"
   ]
  },
  {
   "cell_type": "code",
   "execution_count": 9,
   "id": "d22e6aa7",
   "metadata": {},
   "outputs": [
    {
     "data": {
      "text/plain": [
       "Dict{String, Float64} with 20 entries:\n",
       "  \"T\"  => -1.51866\n",
       "  \"C\"  => -1.58002\n",
       "  \"CC\" => 0.0\n",
       "  \"GC\" => -0.0745032\n",
       "  \"GG\" => 0.0\n",
       "  \"CG\" => -0.923865\n",
       "  \"AT\" => 0.0\n",
       "  \"A\"  => -1.15173\n",
       "  \"CA\" => 0.244623\n",
       "  \"TG\" => 0.0438542\n",
       "  \"TA\" => -0.499717\n",
       "  \"GT\" => 0.0\n",
       "  \"G\"  => -1.35119\n",
       "  \"GA\" => 0.319797\n",
       "  \"TT\" => 0.0\n",
       "  \"AC\" => -0.152997\n",
       "  \"CT\" => 0.0\n",
       "  \"AA\" => 0.0\n",
       "  \"AG\" => -0.178605\n",
       "  \"TC\" => 0.0621285"
      ]
     },
     "execution_count": 9,
     "metadata": {},
     "output_type": "execute_result"
    }
   ],
   "source": [
    "alphabet = [\"A\", \"C\", \"G\", \"T\"]\n",
    "motifs = [a*b for a in alphabet for b in alphabet]\n",
    "\n",
    "NoncodingForces_v2_1.DimerForce(sequence, motifs)"
   ]
  },
  {
   "cell_type": "markdown",
   "id": "cc02b623",
   "metadata": {},
   "source": [
    "In particular, the gauge chosen is so that:\n",
    "- the exponential of the fields sum to 1;\n",
    "- the forces for dinucleotides of the form NN and those of the form NT are put to zero.\n",
    "\n",
    "Notice that the script allows for flexible choices: if not all the dinucleotides are given, the gauge is always chosen such that the maximum possible number of the nucleotides of the form NN and NT have forces equal to zero:"
   ]
  },
  {
   "cell_type": "code",
   "execution_count": 10,
   "id": "a7a74f23",
   "metadata": {},
   "outputs": [
    {
     "data": {
      "text/plain": [
       "Dict{String, Float64} with 10 entries:\n",
       "  \"AC\" => -0.15147\n",
       "  \"AT\" => 0.0\n",
       "  \"A\"  => -1.10232\n",
       "  \"T\"  => -1.35861\n",
       "  \"C\"  => -1.75463\n",
       "  \"AG\" => 0.00906447\n",
       "  \"CA\" => 0.463157\n",
       "  \"G\"  => -1.43586\n",
       "  \"TA\" => -0.613914\n",
       "  \"GA\" => 0.262192"
      ]
     },
     "execution_count": 10,
     "metadata": {},
     "output_type": "execute_result"
    }
   ],
   "source": [
    "motifs = [\"AC\", \"AG\", \"AT\", \"CA\", \"GA\", \"TA\"]\n",
    "NoncodingForces_v2_1.DimerForce(sequence, motifs)"
   ]
  },
  {
   "cell_type": "code",
   "execution_count": 11,
   "id": "7f1f43a1",
   "metadata": {},
   "outputs": [
    {
     "data": {
      "text/plain": [
       "Dict{String, Float64} with 16 entries:\n",
       "  \"T\"  => -1.51982\n",
       "  \"C\"  => -1.58108\n",
       "  \"GC\" => -0.0729455\n",
       "  \"CG\" => -0.92149\n",
       "  \"AT\" => 0.0\n",
       "  \"A\"  => -1.14948\n",
       "  \"CA\" => 0.242638\n",
       "  \"TG\" => 0.0479148\n",
       "  \"G\"  => -1.35211\n",
       "  \"TA\" => -0.500021\n",
       "  \"GT\" => 0.0\n",
       "  \"GA\" => 0.317307\n",
       "  \"AC\" => -0.151731\n",
       "  \"CT\" => 0.0\n",
       "  \"AG\" => -0.177023\n",
       "  \"TC\" => 0.0658733"
      ]
     },
     "execution_count": 11,
     "metadata": {},
     "output_type": "execute_result"
    }
   ],
   "source": [
    "motifs = [\n",
    " \"AC\",\n",
    " \"AG\",\n",
    " \"AT\",\n",
    " \"CA\",\n",
    "\n",
    " \"CG\",\n",
    " \"CT\",\n",
    " \"GA\",\n",
    " \"GC\",\n",
    "\n",
    " \"GT\",\n",
    " \"TA\",\n",
    " \"TC\",\n",
    " \"TG\",\n",
    "]\n",
    "NoncodingForces_v2_1.DimerForce(sequence, motifs)"
   ]
  },
  {
   "cell_type": "markdown",
   "id": "167e1072",
   "metadata": {},
   "source": [
    "Notice that when dinucleotides are not given, this is equivalent to fix to 0 their forces. Depending on which dinucleotides are not given, this might or not be a specific gauge - in other words, it might or not result in an equivalent model.\n",
    "For instance, the following three cells result in equivalent models (although the third has different parameters because it is in another gauge), while the fourth does not:"
   ]
  },
  {
   "cell_type": "code",
   "execution_count": 12,
   "id": "46525c9b",
   "metadata": {},
   "outputs": [
    {
     "data": {
      "text/plain": [
       "Dict{String, Float64} with 10 entries:\n",
       "  \"AC\" => -0.15147\n",
       "  \"AT\" => 0.0\n",
       "  \"A\"  => -1.10232\n",
       "  \"T\"  => -1.35861\n",
       "  \"C\"  => -1.75463\n",
       "  \"AG\" => 0.00906447\n",
       "  \"CA\" => 0.463157\n",
       "  \"G\"  => -1.43586\n",
       "  \"TA\" => -0.613914\n",
       "  \"GA\" => 0.262192"
      ]
     },
     "execution_count": 12,
     "metadata": {},
     "output_type": "execute_result"
    }
   ],
   "source": [
    "motifs = [\"AC\", \"AG\", \"AT\", \"CA\", \"GA\", \"TA\"]\n",
    "NoncodingForces_v2_1.DimerForce(sequence, motifs)"
   ]
  },
  {
   "cell_type": "code",
   "execution_count": 13,
   "id": "db94c552",
   "metadata": {},
   "outputs": [
    {
     "data": {
      "text/plain": [
       "Dict{String, Float64} with 9 entries:\n",
       "  \"AC\" => -0.15147\n",
       "  \"A\"  => -1.10232\n",
       "  \"T\"  => -1.35861\n",
       "  \"C\"  => -1.75463\n",
       "  \"AG\" => 0.00906447\n",
       "  \"CA\" => 0.463157\n",
       "  \"G\"  => -1.43586\n",
       "  \"TA\" => -0.613914\n",
       "  \"GA\" => 0.262192"
      ]
     },
     "execution_count": 13,
     "metadata": {},
     "output_type": "execute_result"
    }
   ],
   "source": [
    "motifs = [\"AC\", \"AG\", \"CA\", \"GA\", \"TA\"]\n",
    "NoncodingForces_v2_1.DimerForce(sequence, motifs)"
   ]
  },
  {
   "cell_type": "code",
   "execution_count": 14,
   "id": "9f381dea",
   "metadata": {},
   "outputs": [
    {
     "data": {
      "text/plain": [
       "Dict{String, Float64} with 9 entries:\n",
       "  \"AT\" => 0.170807\n",
       "  \"A\"  => -1.10216\n",
       "  \"T\"  => -1.36147\n",
       "  \"C\"  => -1.75115\n",
       "  \"AG\" => 0.17067\n",
       "  \"CA\" => 0.301661\n",
       "  \"G\"  => -1.43553\n",
       "  \"TA\" => -0.775411\n",
       "  \"GA\" => 0.100696"
      ]
     },
     "execution_count": 14,
     "metadata": {},
     "output_type": "execute_result"
    }
   ],
   "source": [
    "motifs = [\"AG\", \"AT\", \"CA\", \"GA\", \"TA\"]\n",
    "NoncodingForces_v2_1.DimerForce(sequence, motifs)"
   ]
  },
  {
   "cell_type": "code",
   "execution_count": 15,
   "id": "3c6a149b",
   "metadata": {},
   "outputs": [
    {
     "data": {
      "text/plain": [
       "Dict{String, Float64} with 8 entries:\n",
       "  \"A\"  => -1.10409\n",
       "  \"T\"  => -1.33658\n",
       "  \"C\"  => -1.78238\n",
       "  \"AG\" => 0.079359\n",
       "  \"CA\" => 0.39291\n",
       "  \"G\"  => -1.43756\n",
       "  \"TA\" => -0.684162\n",
       "  \"GA\" => 0.191945"
      ]
     },
     "execution_count": 15,
     "metadata": {},
     "output_type": "execute_result"
    }
   ],
   "source": [
    "motifs = [\"AG\", \"CA\", \"GA\", \"TA\"]\n",
    "NoncodingForces_v2_1.DimerForce(sequence, motifs)"
   ]
  },
  {
   "cell_type": "markdown",
   "id": "88333bc1",
   "metadata": {},
   "source": [
    "In some cases (notably when all the dinucleotides are given), fixing fields is equivalent to fix (part of) a gauge, so the model is independendent on this choice (although the values of the inferred parameters depend on that)."
   ]
  },
  {
   "cell_type": "code",
   "execution_count": null,
   "id": "5d4d5676",
   "metadata": {},
   "outputs": [],
   "source": []
  },
  {
   "cell_type": "code",
   "execution_count": null,
   "id": "a8dc190f",
   "metadata": {},
   "outputs": [],
   "source": []
  },
  {
   "cell_type": "code",
   "execution_count": null,
   "id": "1d4aa6f9",
   "metadata": {},
   "outputs": [],
   "source": []
  },
  {
   "cell_type": "code",
   "execution_count": null,
   "id": "fafdc341",
   "metadata": {},
   "outputs": [],
   "source": []
  },
  {
   "cell_type": "markdown",
   "id": "41620b80",
   "metadata": {},
   "source": [
    "# From here on, it is work in progress!!!"
   ]
  },
  {
   "cell_type": "code",
   "execution_count": null,
   "id": "79332a1d",
   "metadata": {},
   "outputs": [],
   "source": [
    "##########################################################################\n",
    "##########################################################################"
   ]
  },
  {
   "cell_type": "code",
   "execution_count": null,
   "id": "a962e091",
   "metadata": {},
   "outputs": [],
   "source": [
    "# this below seems not to work well..."
   ]
  },
  {
   "cell_type": "markdown",
   "id": "6b37cbd7",
   "metadata": {},
   "source": [
    "Using \"add_pseudocount = true\", a single pseudocount is added to the number of each motif inferred (nucleotide or di-nucleotide):"
   ]
  },
  {
   "cell_type": "code",
   "execution_count": 22,
   "id": "f0e87444",
   "metadata": {},
   "outputs": [
    {
     "data": {
      "text/plain": [
       "\"ATGGAGAGAATAAAAGAATTAAGGGATCTAATGTCACAGTCCCGCACTCGCGAGATACTAACAAAAACCACTGTGGACCATATGGCCATAATCAAGAAGTACACATCAGGAAGACAAGAGAAGAACCCTGCTCTCAGAATGAAATGGATGATGGCAATGAAATATCCAATCACAGCGGACAAGAGAATAACAGAGATGATTCCTGAAAGGAATGAACAAGGGCAGACGCTCTGGAGCAAGACAAATGATGCCGGATCGGACAGGTTGATGGTGTCTCCCTTAGCTGTAACTTGGTGGAATAGGAATGGGCCGACGACAAGTGCAGTCCATTATCCAAAGGTTTACAAAACATACTTTGAGAAGGCTGAAAGGCTAAAACATGGAACCTTCGGTCCCGTCCATTTTCGAAACCAAGTTAAAATACGCCGCCGAGTTGATATAAATCCTGGCCATGCAGATCTCAGTGCTAAAGAAGCACAAGATGTCATCATGGAGGTCGT\""
      ]
     },
     "execution_count": 22,
     "metadata": {},
     "output_type": "execute_result"
    }
   ],
   "source": [
    "short_sequence = sequence[1:500]"
   ]
  },
  {
   "cell_type": "code",
   "execution_count": 24,
   "id": "6756dbd8",
   "metadata": {},
   "outputs": [
    {
     "data": {
      "text/plain": [
       "Dict{String, Float64} with 20 entries:\n",
       "  \"T\"  => -1.78999\n",
       "  \"C\"  => -1.46096\n",
       "  \"CC\" => 0.0\n",
       "  \"GC\" => -0.0881668\n",
       "  \"GG\" => 0.0\n",
       "  \"CG\" => -0.673973\n",
       "  \"AT\" => 0.0\n",
       "  \"A\"  => -1.02452\n",
       "  \"CA\" => 0.201549\n",
       "  \"TG\" => 0.285663\n",
       "  \"TA\" => -0.190423\n",
       "  \"GT\" => 0.0\n",
       "  \"G\"  => -1.41859\n",
       "  \"GA\" => 0.470057\n",
       "  \"TT\" => 0.0\n",
       "  \"AC\" => -0.497816\n",
       "  \"CT\" => 0.0\n",
       "  \"AA\" => 0.0\n",
       "  \"AG\" => -0.420048\n",
       "  \"TC\" => 0.323648"
      ]
     },
     "execution_count": 24,
     "metadata": {},
     "output_type": "execute_result"
    }
   ],
   "source": [
    "alphabet = [\"A\", \"C\", \"G\", \"T\"]\n",
    "motifs = [a*b for a in alphabet for b in alphabet]\n",
    "NoncodingForces_v2_1.DimerForce(short_sequence, motifs; add_pseudocount=false)"
   ]
  },
  {
   "cell_type": "code",
   "execution_count": 23,
   "id": "e537aa2d",
   "metadata": {},
   "outputs": [
    {
     "data": {
      "text/plain": [
       "Dict{String, Float64} with 20 entries:\n",
       "  \"T\"  => -3.3792\n",
       "  \"C\"  => -1.30829\n",
       "  \"CC\" => 0.0\n",
       "  \"GC\" => -0.0826845\n",
       "  \"GG\" => 0.0\n",
       "  \"CG\" => -0.645923\n",
       "  \"AT\" => 0.0\n",
       "  \"A\"  => -0.881581\n",
       "  \"CA\" => 0.191599\n",
       "  \"TG\" => 2.18227\n",
       "  \"TA\" => 1.71958\n",
       "  \"GT\" => 0.0\n",
       "  \"G\"  => -1.26757\n",
       "  \"GA\" => 0.455001\n",
       "  \"TT\" => 0.0\n",
       "  \"AC\" => -0.48536\n",
       "  \"CT\" => 0.0\n",
       "  \"AA\" => 0.0\n",
       "  \"AG\" => -0.409147\n",
       "  \"TC\" => 2.21938"
      ]
     },
     "execution_count": 23,
     "metadata": {},
     "output_type": "execute_result"
    }
   ],
   "source": [
    "alphabet = [\"A\", \"C\", \"G\", \"T\"]\n",
    "motifs = [a*b for a in alphabet for b in alphabet]\n",
    "NoncodingForces_v2_1.DimerForce(short_sequence, motifs; add_pseudocount=true)"
   ]
  },
  {
   "cell_type": "code",
   "execution_count": 25,
   "id": "7664ba8f",
   "metadata": {
    "scrolled": true
   },
   "outputs": [
    {
     "data": {
      "text/plain": [
       "Dict{String, Float64} with 20 entries:\n",
       "  \"T\"  => NaN\n",
       "  \"C\"  => NaN\n",
       "  \"CC\" => NaN\n",
       "  \"GC\" => NaN\n",
       "  \"GG\" => NaN\n",
       "  \"CG\" => NaN\n",
       "  \"AT\" => NaN\n",
       "  \"A\"  => NaN\n",
       "  \"CA\" => NaN\n",
       "  \"TG\" => NaN\n",
       "  \"TA\" => NaN\n",
       "  \"GT\" => NaN\n",
       "  \"G\"  => NaN\n",
       "  \"GA\" => NaN\n",
       "  \"TT\" => 0.0\n",
       "  \"AC\" => NaN\n",
       "  \"CT\" => NaN\n",
       "  \"AA\" => NaN\n",
       "  \"AG\" => NaN\n",
       "  \"TC\" => NaN"
      ]
     },
     "execution_count": 25,
     "metadata": {},
     "output_type": "execute_result"
    }
   ],
   "source": [
    "short_sequence = sequence[1:200]\n",
    "alphabet = [\"A\", \"C\", \"G\", \"T\"]\n",
    "motifs = [a*b for a in alphabet for b in alphabet]\n",
    "NoncodingForces_v2_1.DimerForce(short_sequence, motifs; add_pseudocount=true)"
   ]
  },
  {
   "cell_type": "code",
   "execution_count": 26,
   "id": "a13038cf",
   "metadata": {},
   "outputs": [
    {
     "ename": "LoadError",
     "evalue": "LinearAlgebra.SingularException(1)",
     "output_type": "error",
     "traceback": [
      "LinearAlgebra.SingularException(1)",
      "",
      "Stacktrace:",
      "  [1] checknonsingular",
      "    @ C:\\buildbot\\worker\\package_win64\\build\\usr\\share\\julia\\stdlib\\v1.6\\LinearAlgebra\\src\\factorization.jl:19 [inlined]",
      "  [2] checknonsingular",
      "    @ C:\\buildbot\\worker\\package_win64\\build\\usr\\share\\julia\\stdlib\\v1.6\\LinearAlgebra\\src\\factorization.jl:21 [inlined]",
      "  [3] #lu!#132",
      "    @ C:\\buildbot\\worker\\package_win64\\build\\usr\\share\\julia\\stdlib\\v1.6\\LinearAlgebra\\src\\lu.jl:85 [inlined]",
      "  [4] lu!(A::LinearAlgebra.Symmetric{Float64, Matrix{Float64}}, pivot::Val{true}; check::Bool)",
      "    @ LinearAlgebra C:\\buildbot\\worker\\package_win64\\build\\usr\\share\\julia\\stdlib\\v1.6\\LinearAlgebra\\src\\lu.jl:90",
      "  [5] #lu#136",
      "    @ C:\\buildbot\\worker\\package_win64\\build\\usr\\share\\julia\\stdlib\\v1.6\\LinearAlgebra\\src\\lu.jl:273 [inlined]",
      "  [6] lu (repeats 2 times)",
      "    @ C:\\buildbot\\worker\\package_win64\\build\\usr\\share\\julia\\stdlib\\v1.6\\LinearAlgebra\\src\\lu.jl:272 [inlined]",
      "  [7] _inv(A::LinearAlgebra.Symmetric{Float64, Matrix{Float64}})",
      "    @ LinearAlgebra C:\\buildbot\\worker\\package_win64\\build\\usr\\share\\julia\\stdlib\\v1.6\\LinearAlgebra\\src\\symmetric.jl:658",
      "  [8] inv",
      "    @ C:\\buildbot\\worker\\package_win64\\build\\usr\\share\\julia\\stdlib\\v1.6\\LinearAlgebra\\src\\symmetric.jl:673 [inlined]",
      "  [9] DimerForce_withFields(seq::String, nucleotides::Vector{Char}, motifs::Vector{String}; tolerance::Float64, max_iter::Int64, add_pseudocount::Bool, using_rna::Bool)",
      "    @ NoncodingForces_v2_1 ~\\data_work\\repos\\DinucleotideForces.jl\\NoncodingForces_v2_1.jl:206",
      " [10] DimerForce(seq::String, motifs::Vector{String}; freqs::Missing, tolerance::Float64, max_iter::Int64, add_pseudocount::Bool, using_rna::Bool)",
      "    @ NoncodingForces_v2_1 ~\\data_work\\repos\\DinucleotideForces.jl\\NoncodingForces_v2_1.jl:267",
      " [11] top-level scope",
      "    @ In[26]:4",
      " [12] eval",
      "    @ .\\boot.jl:360 [inlined]",
      " [13] include_string(mapexpr::typeof(REPL.softscope), mod::Module, code::String, filename::String)",
      "    @ Base .\\loading.jl:1094"
     ]
    }
   ],
   "source": [
    "short_sequence = sequence[1:100]\n",
    "alphabet = [\"A\", \"C\", \"G\", \"T\"]\n",
    "motifs = [a*b for a in alphabet for b in alphabet]\n",
    "NoncodingForces_v2_1.DimerForce(short_sequence, motifs; add_pseudocount=true)"
   ]
  },
  {
   "cell_type": "code",
   "execution_count": null,
   "id": "c04bef96",
   "metadata": {},
   "outputs": [],
   "source": []
  },
  {
   "cell_type": "markdown",
   "id": "f3b4ab1f",
   "metadata": {},
   "source": [
    "## Coding forces"
   ]
  },
  {
   "cell_type": "markdown",
   "id": "6812e5df",
   "metadata": {},
   "source": [
    "TODO"
   ]
  },
  {
   "cell_type": "code",
   "execution_count": null,
   "id": "0e7ffd6c",
   "metadata": {},
   "outputs": [],
   "source": []
  }
 ],
 "metadata": {
  "kernelspec": {
   "display_name": "Julia 1.6.0",
   "language": "julia",
   "name": "julia-1.6"
  },
  "language_info": {
   "file_extension": ".jl",
   "mimetype": "application/julia",
   "name": "julia",
   "version": "1.6.0"
  }
 },
 "nbformat": 4,
 "nbformat_minor": 5
}
