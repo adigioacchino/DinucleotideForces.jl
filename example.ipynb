{
 "cells": [
  {
   "cell_type": "markdown",
   "id": "a45f9e3d",
   "metadata": {},
   "source": [
    "# Tutorial notebook for dinucleotide forces computation\n",
    "\n",
    "We will take an example genome and we will use it as working example to test the function of the scripts."
   ]
  },
  {
   "cell_type": "code",
   "execution_count": 1,
   "id": "bbb231d3",
   "metadata": {},
   "outputs": [],
   "source": [
    "# load the genome - this is an Influenza H5N1 PB2 segment, strain used: A/Anhui/1/2005\n",
    "sequence = \"ATGGAGAGAATAAAAGAATTAAGGGATCTAATGTCACAGTCCCGCACTCGCGAGATACTAACAAAAACCACTGTGGACCATATGGCCATAATCAAGAAGTACACATCAGGAAGACAAGAGAAGAACCCTGCTCTCAGAATGAAATGGATGATGGCAATGAAATATCCAATCACAGCGGACAAGAGAATAACAGAGATGATTCCTGAAAGGAATGAACAAGGGCAGACGCTCTGGAGCAAGACAAATGATGCCGGATCGGACAGGTTGATGGTGTCTCCCTTAGCTGTAACTTGGTGGAATAGGAATGGGCCGACGACAAGTGCAGTCCATTATCCAAAGGTTTACAAAACATACTTTGAGAAGGCTGAAAGGCTAAAACATGGAACCTTCGGTCCCGTCCATTTTCGAAACCAAGTTAAAATACGCCGCCGAGTTGATATAAATCCTGGCCATGCAGATCTCAGTGCTAAAGAAGCACAAGATGTCATCATGGAGGTCGTTTTCCCAAATGAAGTGGGAGCTAGAATATTGACATCAGAGTCACAATTGACAATAACGAAAGAGAAGAAAGAAGAGCTCCAAGATTGTAAGATTGCTCCCTTAATGGTTGCATACATGTTGGAAAGGGAACTGGTCCGCAAAACCAGATTCCTACCGGTAGCAAGCGGAACAAGCAGTGTGTACATTGAGGTATTGCATTTGACTCAAGGGACCTGCTGGGAACAGATGTACACTCCAGGCGGAGAAGTGAGAAACGACGATGTTGACCAGAGTTTGATCATCGCTGCCAGAAACATTGTTAGGAGAGCAACGGTATCAGCGGATCCACTGGCATCACTGCTGGAGATGTGTCACAGCACACAAATTGGTGGGATAAGGATGGTGGACATCCTTAGGCAAAACCCAACTGAGGAACAAGCTGTGGGTATATGCAAAGCAGCAATGGGTCTGAGGATCAGTTCATCCTTTAGCTTTGGAGGCTTCACTTTCAAAAGAACAAGTGGATCATCCGTCACGAAGGAAGAGGAAGTGCTTACAGGCAACCTCCAAACATTGAAAATAAGAGTACATGAGGGGTATGAAGAGTTCACAATGGTTGGACGGAGGGCAACAGCTATCCTGAGGAAAGCAACTAGAAGGCTGATTCAGTTGATAGTAAGTGGAAGAGACGAACAATCAATCGCTGAGGCAATCATTGTAGCAATGGTGTTCTCACAGGAGGATTGCATGATAAAGGCAGTCCGGGGCGATTTGAATTTCGTAAACAGAGCAAACCAAAGATTAAACCCCATGCATCAACTCCTGAGACATTTTCAAAAGGACGCAAAAGTGCTATTTCAGAATTGGGGAATTGAACCCATTGATAATGTCATGGGGATGATCGGAATATTACCTGACCTGACTCCCAGCACAGAAATGTCACTGAGAAGAGTAAGAGTTAGTAAAGTGGGAGTGGATGAATATTCCAGCACTGAGAGAGTAATTGTAAGTATTGACCGTTTCTTAAGGGTTCGAGATCAGCGGGGGAACGTACTCTTATCTCCCGAAGAGGTCAGCGAAACCCAGGGAACAGAGAAATTGACAATAACATATTCATCATCAATGATGTGGGAAATCAACGGTCCTGAGTCAGTGCTTGTTAACACCTATCAATGGATCATCAGAAACTGGGAAACTGTGAAGATTCAATGGTCTCAAGACCCCACGATGCTGTACAATAAGATGGAGTTTGAACCGTTCCAATCCTTGGTACCTAAGGCTGCCAGAGGTCAATACAGTGGATTTGTGAGAACACTATTCCAACAAATGCGTGACGTACTGGGGACATTTGATACTGTCCAGATAATAAAGCTGCTACCATTTGCAGCAGCCCCACCAGAGCAGAGCAGAATGCAGTTTTCTTCTCTAACTGTGAATGTGAGAGGCTCAGGAATGAGAATACTCGTAAGGGGCAATTCCCCTGTGTTCAACTACAATAAGGCAACCAAAAGGCTTACCGTTCTTGGAAAGGACGCAGGTGCATTAACAGAGGATCCAGATGAGGGGACAACCGGAGTGGAGTCTGCAGTACTGAGGGAATTCCTAATTCTAGGCAAGGAGGACAAAAGATATGGACCAGCATTGAGTATCAATGAACTGAGCAACCTTGCGAAAGGGGAGAAAGCTAATGTGCTGATAGGACAAGGAGACGTGGTGTTGGTAATGAAACGGAAACGGGACTCTAGCATACTTACTGACAGCCAGACAGCGACCAAAAGAATTCGGATGGCCATCAATTAG\";"
   ]
  },
  {
   "cell_type": "markdown",
   "id": "8845508e",
   "metadata": {},
   "source": [
    "## Non-coding forces"
   ]
  },
  {
   "cell_type": "code",
   "execution_count": 2,
   "id": "08b174db",
   "metadata": {},
   "outputs": [
    {
     "name": "stderr",
     "output_type": "stream",
     "text": [
      "┌ Info: Precompiling NoncodingForces_v2_1 [top-level]\n",
      "└ @ Base loading.jl:1423\n"
     ]
    }
   ],
   "source": [
    "package_path = \"./\"\n",
    "!in(package_path, LOAD_PATH) && push!(LOAD_PATH, package_path)\n",
    "using NoncodingForces_v2_1"
   ]
  },
  {
   "cell_type": "markdown",
   "id": "0c5939c3",
   "metadata": {},
   "source": [
    "Let's start by computing the force on the CpG motif along the full genome:"
   ]
  },
  {
   "cell_type": "code",
   "execution_count": 3,
   "id": "5007cec4",
   "metadata": {},
   "outputs": [
    {
     "data": {
      "text/plain": [
       "Dict{String, Float64} with 5 entries:\n",
       "  \"A\"  => -1.1769\n",
       "  \"T\"  => -1.61568\n",
       "  \"C\"  => -1.52965\n",
       "  \"CG\" => -0.995176\n",
       "  \"G\"  => -1.28591"
      ]
     },
     "execution_count": 3,
     "metadata": {},
     "output_type": "execute_result"
    }
   ],
   "source": [
    "motifs = [\"CG\"]\n",
    "\n",
    "NoncodingForces_v2_1.DimerForce(sequence, motifs)"
   ]
  },
  {
   "cell_type": "markdown",
   "id": "30e45f54",
   "metadata": {},
   "source": [
    "When no nucleotide biases (frequencies) are specified, as above, the corresponding fields are inferred together with the forces. \n",
    "Notice that $\\sum_n e^{h_n} = 1$, where $n \\in \\{A,C,G,T\\}$. This is the result of a gauge choice, because in general the model probabilities are invariant under the transformation\n",
    "$$ h_n \\to h_n+K, $$\n",
    "which can then be used to make them interpretable as the logarithm of a frequency.\n",
    "\n",
    "A user-specified bias can be given, and in this case fields are not inferred:"
   ]
  },
  {
   "cell_type": "code",
   "execution_count": 4,
   "id": "2db0b4f9",
   "metadata": {},
   "outputs": [
    {
     "data": {
      "text/plain": [
       "Dict{String, Float64} with 1 entry:\n",
       "  \"CG\" => -1.04814"
      ]
     },
     "execution_count": 4,
     "metadata": {},
     "output_type": "execute_result"
    }
   ],
   "source": [
    "nt_bias = [0.25, 0.25, 0.25, 0.25] # probs for A, C, G, T\n",
    "motifs = [\"CG\"]\n",
    "\n",
    "NoncodingForces_v2_1.DimerForce(sequence, motifs; freqs=nt_bias)"
   ]
  },
  {
   "cell_type": "markdown",
   "id": "30e60166",
   "metadata": {},
   "source": [
    "The script easily allow to compute forces on two or more dinucleotides:"
   ]
  },
  {
   "cell_type": "code",
   "execution_count": 5,
   "id": "d9feef0e",
   "metadata": {},
   "outputs": [
    {
     "data": {
      "text/plain": [
       "Dict{String, Float64} with 6 entries:\n",
       "  \"A\"  => -1.11638\n",
       "  \"T\"  => -1.48577\n",
       "  \"C\"  => -1.63225\n",
       "  \"CG\" => -0.91146\n",
       "  \"G\"  => -1.38341\n",
       "  \"TA\" => -0.762974"
      ]
     },
     "execution_count": 5,
     "metadata": {},
     "output_type": "execute_result"
    }
   ],
   "source": [
    "motifs = [\"CG\", \"TA\"]\n",
    "\n",
    "NoncodingForces_v2_1.DimerForce(sequence, motifs)"
   ]
  },
  {
   "cell_type": "markdown",
   "id": "08b4c206",
   "metadata": {},
   "source": [
    "Notice how the CpG force changed in the 3 cases, due to the fact that different motifs (as well as fields) interact. \n",
    "When the full set of dinucleotides is inferred, the system of equations solved to obtain forces is underdetermined. This means that a gauge choice must be made, for instance by setting some forces to zero by passing less than 16 dinucleotides as motifs.\n",
    "If such a choise is not made, the script does it, as follows:"
   ]
  },
  {
   "cell_type": "code",
   "execution_count": 13,
   "id": "d22e6aa7",
   "metadata": {},
   "outputs": [
    {
     "data": {
      "text/plain": [
       "Dict{String, Float64} with 20 entries:\n",
       "  \"T\"  => -1.51332\n",
       "  \"C\"  => -1.58152\n",
       "  \"CC\" => 0.0\n",
       "  \"GC\" => -0.0745035\n",
       "  \"GG\" => 0.0\n",
       "  \"CG\" => -0.923862\n",
       "  \"AT\" => 0.0\n",
       "  \"A\"  => -1.15323\n",
       "  \"CA\" => 0.244622\n",
       "  \"TG\" => 0.0349993\n",
       "  \"TA\" => -0.508575\n",
       "  \"GT\" => 0.0\n",
       "  \"G\"  => -1.35269\n",
       "  \"GA\" => 0.319795\n",
       "  \"TT\" => 0.0\n",
       "  \"AC\" => -0.152995\n",
       "  \"CT\" => 0.0\n",
       "  \"AA\" => 0.0\n",
       "  \"AG\" => -0.178602\n",
       "  \"TC\" => 0.0532732"
      ]
     },
     "execution_count": 13,
     "metadata": {},
     "output_type": "execute_result"
    }
   ],
   "source": [
    "alphabet = [\"A\", \"C\", \"G\", \"T\"]\n",
    "motifs = [a*b for a in alphabet for b in alphabet]\n",
    "\n",
    "NoncodingForces_v2_1.DimerForce(sequence, motifs)"
   ]
  },
  {
   "cell_type": "markdown",
   "id": "cc02b623",
   "metadata": {},
   "source": [
    "In particular, the gauge chosen is so that:\n",
    "- the exponential of the fields sum to 1;\n",
    "- the forces for dinucleotides of the form NN and those of the form NT are put to zero.\n",
    "\n",
    "Notice that the script allows for flexible choices: if not all the dinucleotides are given, the gauge is always chosen such that the maximum possible number of the nucleotides of the form NN and NT have forces equal to zero:"
   ]
  },
  {
   "cell_type": "code",
   "execution_count": 7,
   "id": "a7a74f23",
   "metadata": {},
   "outputs": [
    {
     "data": {
      "text/plain": [
       "Dict{String, Float64} with 10 entries:\n",
       "  \"AC\" => -0.151479\n",
       "  \"AT\" => 0.0\n",
       "  \"A\"  => -1.10053\n",
       "  \"T\"  => -1.3595\n",
       "  \"C\"  => -1.75552\n",
       "  \"AG\" => 0.00905578\n",
       "  \"CA\" => 0.45918\n",
       "  \"G\"  => -1.43675\n",
       "  \"TA\" => -0.617891\n",
       "  \"GA\" => 0.258216"
      ]
     },
     "execution_count": 7,
     "metadata": {},
     "output_type": "execute_result"
    }
   ],
   "source": [
    "motifs = [\"AC\", \"AG\", \"AT\", \"CA\", \"GA\", \"TA\"]\n",
    "NoncodingForces_v2_1.DimerForce(sequence, motifs)"
   ]
  },
  {
   "cell_type": "code",
   "execution_count": 8,
   "id": "7f1f43a1",
   "metadata": {},
   "outputs": [
    {
     "data": {
      "text/plain": [
       "Dict{String, Float64} with 16 entries:\n",
       "  \"T\"  => -1.52067\n",
       "  \"C\"  => -1.58192\n",
       "  \"GC\" => -0.0729472\n",
       "  \"CG\" => -0.921501\n",
       "  \"AT\" => 0.0\n",
       "  \"A\"  => -1.14765\n",
       "  \"CA\" => 0.238663\n",
       "  \"TG\" => 0.0479085\n",
       "  \"G\"  => -1.35296\n",
       "  \"TA\" => -0.503996\n",
       "  \"GT\" => 0.0\n",
       "  \"GA\" => 0.313334\n",
       "  \"AC\" => -0.151742\n",
       "  \"CT\" => 0.0\n",
       "  \"AG\" => -0.177036\n",
       "  \"TC\" => 0.0658684"
      ]
     },
     "execution_count": 8,
     "metadata": {},
     "output_type": "execute_result"
    }
   ],
   "source": [
    "motifs = [\n",
    " \"AC\",\n",
    " \"AG\",\n",
    " \"AT\",\n",
    " \"CA\",\n",
    "\n",
    " \"CG\",\n",
    " \"CT\",\n",
    " \"GA\",\n",
    " \"GC\",\n",
    "\n",
    " \"GT\",\n",
    " \"TA\",\n",
    " \"TC\",\n",
    " \"TG\",\n",
    "]\n",
    "NoncodingForces_v2_1.DimerForce(sequence, motifs)"
   ]
  },
  {
   "cell_type": "markdown",
   "id": "167e1072",
   "metadata": {},
   "source": [
    "Notice that when dinucleotides are not given, this is equivalent to fix to 0 their forces. Depending on which dinucleotides are not given, this might or not be a specific gauge - in other words, it might or not result in an equivalent model.\n",
    "For instance, the following three cells result in equivalent models (although the third has different parameters because it is in another gauge), while the fourth does not:"
   ]
  },
  {
   "cell_type": "code",
   "execution_count": 9,
   "id": "46525c9b",
   "metadata": {},
   "outputs": [
    {
     "data": {
      "text/plain": [
       "Dict{String, Float64} with 10 entries:\n",
       "  \"AC\" => -0.151479\n",
       "  \"AT\" => 0.0\n",
       "  \"A\"  => -1.10053\n",
       "  \"T\"  => -1.3595\n",
       "  \"C\"  => -1.75552\n",
       "  \"AG\" => 0.00905578\n",
       "  \"CA\" => 0.45918\n",
       "  \"G\"  => -1.43675\n",
       "  \"TA\" => -0.617891\n",
       "  \"GA\" => 0.258216"
      ]
     },
     "execution_count": 9,
     "metadata": {},
     "output_type": "execute_result"
    }
   ],
   "source": [
    "motifs = [\"AC\", \"AG\", \"AT\", \"CA\", \"GA\", \"TA\"]\n",
    "NoncodingForces_v2_1.DimerForce(sequence, motifs)"
   ]
  },
  {
   "cell_type": "code",
   "execution_count": 10,
   "id": "db94c552",
   "metadata": {},
   "outputs": [
    {
     "data": {
      "text/plain": [
       "Dict{String, Float64} with 9 entries:\n",
       "  \"AC\" => -0.151479\n",
       "  \"A\"  => -1.10053\n",
       "  \"T\"  => -1.3595\n",
       "  \"C\"  => -1.75552\n",
       "  \"AG\" => 0.00905578\n",
       "  \"CA\" => 0.45918\n",
       "  \"G\"  => -1.43675\n",
       "  \"TA\" => -0.617891\n",
       "  \"GA\" => 0.258216"
      ]
     },
     "execution_count": 10,
     "metadata": {},
     "output_type": "execute_result"
    }
   ],
   "source": [
    "motifs = [\"AC\", \"AG\", \"CA\", \"GA\", \"TA\"]\n",
    "NoncodingForces_v2_1.DimerForce(sequence, motifs)"
   ]
  },
  {
   "cell_type": "code",
   "execution_count": 11,
   "id": "9f381dea",
   "metadata": {},
   "outputs": [
    {
     "data": {
      "text/plain": [
       "Dict{String, Float64} with 9 entries:\n",
       "  \"AT\" => 0.170798\n",
       "  \"A\"  => -1.10038\n",
       "  \"T\"  => -1.36235\n",
       "  \"C\"  => -1.75204\n",
       "  \"AG\" => 0.17066\n",
       "  \"CA\" => 0.297683\n",
       "  \"G\"  => -1.43641\n",
       "  \"TA\" => -0.779388\n",
       "  \"GA\" => 0.0967191"
      ]
     },
     "execution_count": 11,
     "metadata": {},
     "output_type": "execute_result"
    }
   ],
   "source": [
    "motifs = [\"AG\", \"AT\", \"CA\", \"GA\", \"TA\"]\n",
    "NoncodingForces_v2_1.DimerForce(sequence, motifs)"
   ]
  },
  {
   "cell_type": "code",
   "execution_count": 12,
   "id": "3c6a149b",
   "metadata": {},
   "outputs": [
    {
     "data": {
      "text/plain": [
       "Dict{String, Float64} with 8 entries:\n",
       "  \"A\"  => -1.10231\n",
       "  \"T\"  => -1.33747\n",
       "  \"C\"  => -1.78327\n",
       "  \"AG\" => 0.0793553\n",
       "  \"CA\" => 0.388927\n",
       "  \"G\"  => -1.43844\n",
       "  \"TA\" => -0.688144\n",
       "  \"GA\" => 0.187962"
      ]
     },
     "execution_count": 12,
     "metadata": {},
     "output_type": "execute_result"
    }
   ],
   "source": [
    "motifs = [\"AG\", \"CA\", \"GA\", \"TA\"]\n",
    "NoncodingForces_v2_1.DimerForce(sequence, motifs)"
   ]
  },
  {
   "cell_type": "markdown",
   "id": "88333bc1",
   "metadata": {},
   "source": [
    "In some cases (notably when all the dinucleotides are given), fixing fields is equivalent to fix (part of) a gauge, so the model is independendent on this choice (although the values of the inferred parameters depend on that)."
   ]
  },
  {
   "cell_type": "code",
   "execution_count": null,
   "id": "9f302b6d",
   "metadata": {},
   "outputs": [],
   "source": []
  },
  {
   "cell_type": "markdown",
   "id": "2343b805",
   "metadata": {},
   "source": [
    "Given a sequence, the package allows to compute easily its energy"
   ]
  },
  {
   "cell_type": "code",
   "execution_count": 13,
   "id": "a8dc190f",
   "metadata": {},
   "outputs": [
    {
     "data": {
      "text/plain": [
       "-3060.7803535779112"
      ]
     },
     "execution_count": 13,
     "metadata": {},
     "output_type": "execute_result"
    }
   ],
   "source": [
    "tf = NoncodingForces_v2_1.DimerForce(sequence, motifs)\n",
    "NoncodingForces_v2_1.compute_energy(sequence, tf)"
   ]
  },
  {
   "cell_type": "markdown",
   "id": "61cf4bb1",
   "metadata": {},
   "source": [
    "and its log-likelihood (energy minus log of partition function)"
   ]
  },
  {
   "cell_type": "code",
   "execution_count": 14,
   "id": "ebc4f73f",
   "metadata": {},
   "outputs": [
    {
     "data": {
      "text/plain": [
       "-3077.2773914820596"
      ]
     },
     "execution_count": 14,
     "metadata": {},
     "output_type": "execute_result"
    }
   ],
   "source": [
    "NoncodingForces_v2_1.compute_loglikelihood(sequence, tf)"
   ]
  },
  {
   "cell_type": "markdown",
   "id": "bbd176f4",
   "metadata": {},
   "source": [
    "To make sense of this large negative log-likelihood, consider that in the uniform case we have $4^L$ sequences, so the log-likelihood of each of them would be:"
   ]
  },
  {
   "cell_type": "code",
   "execution_count": 15,
   "id": "72ec78e5",
   "metadata": {},
   "outputs": [
    {
     "data": {
      "text/plain": [
       "-3160.7511433533505"
      ]
     },
     "execution_count": 15,
     "metadata": {},
     "output_type": "execute_result"
    }
   ],
   "source": [
    "- length(sequence) * log(4)"
   ]
  },
  {
   "cell_type": "markdown",
   "id": "e8c6aadb",
   "metadata": {},
   "source": [
    "Notice that the function `compute_loglikelihood` computes the partition function each time it is runned. To avoid this, the log of the partition function can be passed directly:"
   ]
  },
  {
   "cell_type": "code",
   "execution_count": 19,
   "id": "db366ac0",
   "metadata": {},
   "outputs": [
    {
     "name": "stdout",
     "output_type": "stream",
     "text": [
      "  0.000334 seconds (4.22 k allocations: 379.297 KiB)\n"
     ]
    },
    {
     "data": {
      "text/plain": [
       "-3077.2773914820596"
      ]
     },
     "execution_count": 19,
     "metadata": {},
     "output_type": "execute_result"
    }
   ],
   "source": [
    "@time begin\n",
    "NoncodingForces_v2_1.compute_loglikelihood(sequence, tf)\n",
    "end"
   ]
  },
  {
   "cell_type": "code",
   "execution_count": 20,
   "id": "fafdc341",
   "metadata": {},
   "outputs": [
    {
     "data": {
      "text/plain": [
       "43.95270666581519"
      ]
     },
     "execution_count": 20,
     "metadata": {},
     "output_type": "execute_result"
    }
   ],
   "source": [
    "ks = keys(tf)\n",
    "k1 = [k for k in ks if length(k)==1]\n",
    "k2 = [k for k in ks if length(k)==2]\n",
    "fields = [tf[k] for k in k1]\n",
    "forces = [tf[k] for k in k2]\n",
    "L = length(sequence)\n",
    "logZ = NoncodingForces_v2_1.eval_log_Z(fields, forces, k2, L)"
   ]
  },
  {
   "cell_type": "code",
   "execution_count": 21,
   "id": "8fbcd0fa",
   "metadata": {},
   "outputs": [
    {
     "name": "stdout",
     "output_type": "stream",
     "text": [
      "  0.000182 seconds (1.44 k allocations: 89.922 KiB)\n"
     ]
    },
    {
     "data": {
      "text/plain": [
       "-3104.7330602437264"
      ]
     },
     "execution_count": 21,
     "metadata": {},
     "output_type": "execute_result"
    }
   ],
   "source": [
    "@time begin\n",
    "NoncodingForces_v2_1.compute_loglikelihood(sequence, tf; logZ=logZ)\n",
    "end"
   ]
  },
  {
   "cell_type": "code",
   "execution_count": null,
   "id": "3635738d",
   "metadata": {},
   "outputs": [],
   "source": []
  },
  {
   "cell_type": "markdown",
   "id": "41620b80",
   "metadata": {},
   "source": [
    "# From here on, it is work in progress!!!"
   ]
  },
  {
   "cell_type": "code",
   "execution_count": null,
   "id": "79332a1d",
   "metadata": {},
   "outputs": [],
   "source": [
    "##########################################################################\n",
    "##########################################################################"
   ]
  },
  {
   "cell_type": "code",
   "execution_count": null,
   "id": "a962e091",
   "metadata": {},
   "outputs": [],
   "source": [
    "# this below seems not to work well..."
   ]
  },
  {
   "cell_type": "markdown",
   "id": "6b37cbd7",
   "metadata": {},
   "source": [
    "Using \"add_pseudocount = true\", a single pseudocount is added to the number of each motif inferred (nucleotide or di-nucleotide):"
   ]
  },
  {
   "cell_type": "code",
   "execution_count": 22,
   "id": "f0e87444",
   "metadata": {},
   "outputs": [
    {
     "data": {
      "text/plain": [
       "\"ATGGAGAGAATAAAAGAATTAAGGGATCTAATGTCACAGTCCCGCACTCGCGAGATACTAACAAAAACCACTGTGGACCATATGGCCATAATCAAGAAGTACACATCAGGAAGACAAGAGAAGAACCCTGCTCTCAGAATGAAATGGATGATGGCAATGAAATATCCAATCACAGCGGACAAGAGAATAACAGAGATGATTCCTGAAAGGAATGAACAAGGGCAGACGCTCTGGAGCAAGACAAATGATGCCGGATCGGACAGGTTGATGGTGTCTCCCTTAGCTGTAACTTGGTGGAATAGGAATGGGCCGACGACAAGTGCAGTCCATTATCCAAAGGTTTACAAAACATACTTTGAGAAGGCTGAAAGGCTAAAACATGGAACCTTCGGTCCCGTCCATTTTCGAAACCAAGTTAAAATACGCCGCCGAGTTGATATAAATCCTGGCCATGCAGATCTCAGTGCTAAAGAAGCACAAGATGTCATCATGGAGGTCGT\""
      ]
     },
     "execution_count": 22,
     "metadata": {},
     "output_type": "execute_result"
    }
   ],
   "source": [
    "short_sequence = sequence[1:500]"
   ]
  },
  {
   "cell_type": "code",
   "execution_count": 24,
   "id": "6756dbd8",
   "metadata": {},
   "outputs": [
    {
     "data": {
      "text/plain": [
       "Dict{String, Float64} with 20 entries:\n",
       "  \"T\"  => -1.78999\n",
       "  \"C\"  => -1.46096\n",
       "  \"CC\" => 0.0\n",
       "  \"GC\" => -0.0881668\n",
       "  \"GG\" => 0.0\n",
       "  \"CG\" => -0.673973\n",
       "  \"AT\" => 0.0\n",
       "  \"A\"  => -1.02452\n",
       "  \"CA\" => 0.201549\n",
       "  \"TG\" => 0.285663\n",
       "  \"TA\" => -0.190423\n",
       "  \"GT\" => 0.0\n",
       "  \"G\"  => -1.41859\n",
       "  \"GA\" => 0.470057\n",
       "  \"TT\" => 0.0\n",
       "  \"AC\" => -0.497816\n",
       "  \"CT\" => 0.0\n",
       "  \"AA\" => 0.0\n",
       "  \"AG\" => -0.420048\n",
       "  \"TC\" => 0.323648"
      ]
     },
     "execution_count": 24,
     "metadata": {},
     "output_type": "execute_result"
    }
   ],
   "source": [
    "alphabet = [\"A\", \"C\", \"G\", \"T\"]\n",
    "motifs = [a*b for a in alphabet for b in alphabet]\n",
    "NoncodingForces_v2_1.DimerForce(short_sequence, motifs; add_pseudocount=false)"
   ]
  },
  {
   "cell_type": "code",
   "execution_count": 23,
   "id": "e537aa2d",
   "metadata": {},
   "outputs": [
    {
     "data": {
      "text/plain": [
       "Dict{String, Float64} with 20 entries:\n",
       "  \"T\"  => -3.3792\n",
       "  \"C\"  => -1.30829\n",
       "  \"CC\" => 0.0\n",
       "  \"GC\" => -0.0826845\n",
       "  \"GG\" => 0.0\n",
       "  \"CG\" => -0.645923\n",
       "  \"AT\" => 0.0\n",
       "  \"A\"  => -0.881581\n",
       "  \"CA\" => 0.191599\n",
       "  \"TG\" => 2.18227\n",
       "  \"TA\" => 1.71958\n",
       "  \"GT\" => 0.0\n",
       "  \"G\"  => -1.26757\n",
       "  \"GA\" => 0.455001\n",
       "  \"TT\" => 0.0\n",
       "  \"AC\" => -0.48536\n",
       "  \"CT\" => 0.0\n",
       "  \"AA\" => 0.0\n",
       "  \"AG\" => -0.409147\n",
       "  \"TC\" => 2.21938"
      ]
     },
     "execution_count": 23,
     "metadata": {},
     "output_type": "execute_result"
    }
   ],
   "source": [
    "alphabet = [\"A\", \"C\", \"G\", \"T\"]\n",
    "motifs = [a*b for a in alphabet for b in alphabet]\n",
    "NoncodingForces_v2_1.DimerForce(short_sequence, motifs; add_pseudocount=true)"
   ]
  },
  {
   "cell_type": "code",
   "execution_count": 25,
   "id": "7664ba8f",
   "metadata": {
    "scrolled": true
   },
   "outputs": [
    {
     "data": {
      "text/plain": [
       "Dict{String, Float64} with 20 entries:\n",
       "  \"T\"  => NaN\n",
       "  \"C\"  => NaN\n",
       "  \"CC\" => NaN\n",
       "  \"GC\" => NaN\n",
       "  \"GG\" => NaN\n",
       "  \"CG\" => NaN\n",
       "  \"AT\" => NaN\n",
       "  \"A\"  => NaN\n",
       "  \"CA\" => NaN\n",
       "  \"TG\" => NaN\n",
       "  \"TA\" => NaN\n",
       "  \"GT\" => NaN\n",
       "  \"G\"  => NaN\n",
       "  \"GA\" => NaN\n",
       "  \"TT\" => 0.0\n",
       "  \"AC\" => NaN\n",
       "  \"CT\" => NaN\n",
       "  \"AA\" => NaN\n",
       "  \"AG\" => NaN\n",
       "  \"TC\" => NaN"
      ]
     },
     "execution_count": 25,
     "metadata": {},
     "output_type": "execute_result"
    }
   ],
   "source": [
    "short_sequence = sequence[1:200]\n",
    "alphabet = [\"A\", \"C\", \"G\", \"T\"]\n",
    "motifs = [a*b for a in alphabet for b in alphabet]\n",
    "NoncodingForces_v2_1.DimerForce(short_sequence, motifs; add_pseudocount=true)"
   ]
  },
  {
   "cell_type": "code",
   "execution_count": 26,
   "id": "a13038cf",
   "metadata": {},
   "outputs": [
    {
     "ename": "LoadError",
     "evalue": "LinearAlgebra.SingularException(1)",
     "output_type": "error",
     "traceback": [
      "LinearAlgebra.SingularException(1)",
      "",
      "Stacktrace:",
      "  [1] checknonsingular",
      "    @ C:\\buildbot\\worker\\package_win64\\build\\usr\\share\\julia\\stdlib\\v1.6\\LinearAlgebra\\src\\factorization.jl:19 [inlined]",
      "  [2] checknonsingular",
      "    @ C:\\buildbot\\worker\\package_win64\\build\\usr\\share\\julia\\stdlib\\v1.6\\LinearAlgebra\\src\\factorization.jl:21 [inlined]",
      "  [3] #lu!#132",
      "    @ C:\\buildbot\\worker\\package_win64\\build\\usr\\share\\julia\\stdlib\\v1.6\\LinearAlgebra\\src\\lu.jl:85 [inlined]",
      "  [4] lu!(A::LinearAlgebra.Symmetric{Float64, Matrix{Float64}}, pivot::Val{true}; check::Bool)",
      "    @ LinearAlgebra C:\\buildbot\\worker\\package_win64\\build\\usr\\share\\julia\\stdlib\\v1.6\\LinearAlgebra\\src\\lu.jl:90",
      "  [5] #lu#136",
      "    @ C:\\buildbot\\worker\\package_win64\\build\\usr\\share\\julia\\stdlib\\v1.6\\LinearAlgebra\\src\\lu.jl:273 [inlined]",
      "  [6] lu (repeats 2 times)",
      "    @ C:\\buildbot\\worker\\package_win64\\build\\usr\\share\\julia\\stdlib\\v1.6\\LinearAlgebra\\src\\lu.jl:272 [inlined]",
      "  [7] _inv(A::LinearAlgebra.Symmetric{Float64, Matrix{Float64}})",
      "    @ LinearAlgebra C:\\buildbot\\worker\\package_win64\\build\\usr\\share\\julia\\stdlib\\v1.6\\LinearAlgebra\\src\\symmetric.jl:658",
      "  [8] inv",
      "    @ C:\\buildbot\\worker\\package_win64\\build\\usr\\share\\julia\\stdlib\\v1.6\\LinearAlgebra\\src\\symmetric.jl:673 [inlined]",
      "  [9] DimerForce_withFields(seq::String, nucleotides::Vector{Char}, motifs::Vector{String}; tolerance::Float64, max_iter::Int64, add_pseudocount::Bool, using_rna::Bool)",
      "    @ NoncodingForces_v2_1 ~\\data_work\\repos\\DinucleotideForces.jl\\NoncodingForces_v2_1.jl:206",
      " [10] DimerForce(seq::String, motifs::Vector{String}; freqs::Missing, tolerance::Float64, max_iter::Int64, add_pseudocount::Bool, using_rna::Bool)",
      "    @ NoncodingForces_v2_1 ~\\data_work\\repos\\DinucleotideForces.jl\\NoncodingForces_v2_1.jl:267",
      " [11] top-level scope",
      "    @ In[26]:4",
      " [12] eval",
      "    @ .\\boot.jl:360 [inlined]",
      " [13] include_string(mapexpr::typeof(REPL.softscope), mod::Module, code::String, filename::String)",
      "    @ Base .\\loading.jl:1094"
     ]
    }
   ],
   "source": [
    "short_sequence = sequence[1:100]\n",
    "alphabet = [\"A\", \"C\", \"G\", \"T\"]\n",
    "motifs = [a*b for a in alphabet for b in alphabet]\n",
    "NoncodingForces_v2_1.DimerForce(short_sequence, motifs; add_pseudocount=true)"
   ]
  },
  {
   "cell_type": "code",
   "execution_count": null,
   "id": "37be7bb1",
   "metadata": {},
   "outputs": [],
   "source": []
  },
  {
   "cell_type": "markdown",
   "id": "f3b4ab1f",
   "metadata": {},
   "source": [
    "## Coding forces"
   ]
  },
  {
   "cell_type": "markdown",
   "id": "6812e5df",
   "metadata": {},
   "source": [
    "TODO"
   ]
  },
  {
   "cell_type": "code",
   "execution_count": null,
   "id": "0e7ffd6c",
   "metadata": {},
   "outputs": [],
   "source": []
  }
 ],
 "metadata": {
  "kernelspec": {
   "display_name": "Julia 1.7.1",
   "language": "julia",
   "name": "julia-1.7"
  },
  "language_info": {
   "file_extension": ".jl",
   "mimetype": "application/julia",
   "name": "julia",
   "version": "1.7.1"
  }
 },
 "nbformat": 4,
 "nbformat_minor": 5
}
