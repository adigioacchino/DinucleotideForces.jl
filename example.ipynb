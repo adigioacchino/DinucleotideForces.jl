{
 "cells": [
  {
   "cell_type": "markdown",
   "id": "a45f9e3d",
   "metadata": {},
   "source": [
    "# Tutorial notebook for dinucleotide forces computation\n",
    "\n",
    "We will take an example genome and we will use it as working example to test the function of the scripts."
   ]
  },
  {
   "cell_type": "code",
   "execution_count": 1,
   "id": "bbb231d3",
   "metadata": {},
   "outputs": [],
   "source": [
    "# load the genome - this is an Influenza H5N1 PB2 segment, strain used: A/Anhui/1/2005\n",
    "sequence = \"ATGGAGAGAATAAAAGAATTAAGGGATCTAATGTCACAGTCCCGCACTCGCGAGATACTAACAAAAACCACTGTGGACCATATGGCCATAATCAAGAAGTACACATCAGGAAGACAAGAGAAGAACCCTGCTCTCAGAATGAAATGGATGATGGCAATGAAATATCCAATCACAGCGGACAAGAGAATAACAGAGATGATTCCTGAAAGGAATGAACAAGGGCAGACGCTCTGGAGCAAGACAAATGATGCCGGATCGGACAGGTTGATGGTGTCTCCCTTAGCTGTAACTTGGTGGAATAGGAATGGGCCGACGACAAGTGCAGTCCATTATCCAAAGGTTTACAAAACATACTTTGAGAAGGCTGAAAGGCTAAAACATGGAACCTTCGGTCCCGTCCATTTTCGAAACCAAGTTAAAATACGCCGCCGAGTTGATATAAATCCTGGCCATGCAGATCTCAGTGCTAAAGAAGCACAAGATGTCATCATGGAGGTCGTTTTCCCAAATGAAGTGGGAGCTAGAATATTGACATCAGAGTCACAATTGACAATAACGAAAGAGAAGAAAGAAGAGCTCCAAGATTGTAAGATTGCTCCCTTAATGGTTGCATACATGTTGGAAAGGGAACTGGTCCGCAAAACCAGATTCCTACCGGTAGCAAGCGGAACAAGCAGTGTGTACATTGAGGTATTGCATTTGACTCAAGGGACCTGCTGGGAACAGATGTACACTCCAGGCGGAGAAGTGAGAAACGACGATGTTGACCAGAGTTTGATCATCGCTGCCAGAAACATTGTTAGGAGAGCAACGGTATCAGCGGATCCACTGGCATCACTGCTGGAGATGTGTCACAGCACACAAATTGGTGGGATAAGGATGGTGGACATCCTTAGGCAAAACCCAACTGAGGAACAAGCTGTGGGTATATGCAAAGCAGCAATGGGTCTGAGGATCAGTTCATCCTTTAGCTTTGGAGGCTTCACTTTCAAAAGAACAAGTGGATCATCCGTCACGAAGGAAGAGGAAGTGCTTACAGGCAACCTCCAAACATTGAAAATAAGAGTACATGAGGGGTATGAAGAGTTCACAATGGTTGGACGGAGGGCAACAGCTATCCTGAGGAAAGCAACTAGAAGGCTGATTCAGTTGATAGTAAGTGGAAGAGACGAACAATCAATCGCTGAGGCAATCATTGTAGCAATGGTGTTCTCACAGGAGGATTGCATGATAAAGGCAGTCCGGGGCGATTTGAATTTCGTAAACAGAGCAAACCAAAGATTAAACCCCATGCATCAACTCCTGAGACATTTTCAAAAGGACGCAAAAGTGCTATTTCAGAATTGGGGAATTGAACCCATTGATAATGTCATGGGGATGATCGGAATATTACCTGACCTGACTCCCAGCACAGAAATGTCACTGAGAAGAGTAAGAGTTAGTAAAGTGGGAGTGGATGAATATTCCAGCACTGAGAGAGTAATTGTAAGTATTGACCGTTTCTTAAGGGTTCGAGATCAGCGGGGGAACGTACTCTTATCTCCCGAAGAGGTCAGCGAAACCCAGGGAACAGAGAAATTGACAATAACATATTCATCATCAATGATGTGGGAAATCAACGGTCCTGAGTCAGTGCTTGTTAACACCTATCAATGGATCATCAGAAACTGGGAAACTGTGAAGATTCAATGGTCTCAAGACCCCACGATGCTGTACAATAAGATGGAGTTTGAACCGTTCCAATCCTTGGTACCTAAGGCTGCCAGAGGTCAATACAGTGGATTTGTGAGAACACTATTCCAACAAATGCGTGACGTACTGGGGACATTTGATACTGTCCAGATAATAAAGCTGCTACCATTTGCAGCAGCCCCACCAGAGCAGAGCAGAATGCAGTTTTCTTCTCTAACTGTGAATGTGAGAGGCTCAGGAATGAGAATACTCGTAAGGGGCAATTCCCCTGTGTTCAACTACAATAAGGCAACCAAAAGGCTTACCGTTCTTGGAAAGGACGCAGGTGCATTAACAGAGGATCCAGATGAGGGGACAACCGGAGTGGAGTCTGCAGTACTGAGGGAATTCCTAATTCTAGGCAAGGAGGACAAAAGATATGGACCAGCATTGAGTATCAATGAACTGAGCAACCTTGCGAAAGGGGAGAAAGCTAATGTGCTGATAGGACAAGGAGACGTGGTGTTGGTAATGAAACGGAAACGGGACTCTAGCATACTTACTGACAGCCAGACAGCGACCAAAAGAATTCGGATGGCCATCAATTAG\";"
   ]
  },
  {
   "cell_type": "markdown",
   "id": "8845508e",
   "metadata": {},
   "source": [
    "## Non-coding forces"
   ]
  },
  {
   "cell_type": "code",
   "execution_count": 2,
   "id": "08b174db",
   "metadata": {},
   "outputs": [],
   "source": [
    "package_path = \"./\"\n",
    "!in(package_path, LOAD_PATH) && push!(LOAD_PATH, package_path)\n",
    "using NoncodingForces_v2_1"
   ]
  },
  {
   "cell_type": "markdown",
   "id": "0c5939c3",
   "metadata": {},
   "source": [
    "Let's start by computing the force on the CpG motif along the full genome:"
   ]
  },
  {
   "cell_type": "code",
   "execution_count": 3,
   "id": "5007cec4",
   "metadata": {},
   "outputs": [
    {
     "data": {
      "text/plain": [
       "Dict{String, Float64} with 5 entries:\n",
       "  \"A\"  => -1.1779\n",
       "  \"T\"  => -1.61537\n",
       "  \"C\"  => -1.52913\n",
       "  \"CG\" => -0.995938\n",
       "  \"G\"  => -1.28543"
      ]
     },
     "execution_count": 3,
     "metadata": {},
     "output_type": "execute_result"
    }
   ],
   "source": [
    "motifs = [\"CG\"]\n",
    "\n",
    "NoncodingForces_v2_1.DimerForce(sequence, motifs)"
   ]
  },
  {
   "cell_type": "markdown",
   "id": "30e45f54",
   "metadata": {},
   "source": [
    "When no nucleotide biases (frequencies) are specified, as above, the corresponding fields are inferred together with the forces. \n",
    "Notice that $\\sum_n e^{h_n} = 1$, where $n \\in \\{A,C,G,T\\}$. This is the result of a gauge choice, because in general the model probabilities are invariant under the transformation\n",
    "$$ h_n \\to h_n+K, $$\n",
    "which can then be used to make them interpretable as the logarithm of a frequency.\n",
    "\n",
    "A user-specified bias can be given, and in this case fields are not inferred:"
   ]
  },
  {
   "cell_type": "code",
   "execution_count": 4,
   "id": "2db0b4f9",
   "metadata": {},
   "outputs": [
    {
     "data": {
      "text/plain": [
       "Dict{String, Float64} with 1 entry:\n",
       "  \"CG\" => -1.04766"
      ]
     },
     "execution_count": 4,
     "metadata": {},
     "output_type": "execute_result"
    }
   ],
   "source": [
    "nt_bias = [0.25, 0.25, 0.25, 0.25] # probs for A, C, G, T\n",
    "motifs = [\"CG\"]\n",
    "\n",
    "NoncodingForces_v2_1.DimerForce(sequence, motifs; freqs=nt_bias)"
   ]
  },
  {
   "cell_type": "markdown",
   "id": "30e60166",
   "metadata": {},
   "source": [
    "The script easily allow to compute forces on two or more dinucleotides:"
   ]
  },
  {
   "cell_type": "code",
   "execution_count": 5,
   "id": "d9feef0e",
   "metadata": {},
   "outputs": [
    {
     "data": {
      "text/plain": [
       "Dict{String, Float64} with 6 entries:\n",
       "  \"A\"  => -1.11739\n",
       "  \"T\"  => -1.48581\n",
       "  \"C\"  => -1.63146\n",
       "  \"CG\" => -0.912403\n",
       "  \"G\"  => -1.38268\n",
       "  \"TA\" => -0.761354"
      ]
     },
     "execution_count": 5,
     "metadata": {},
     "output_type": "execute_result"
    }
   ],
   "source": [
    "motifs = [\"CG\", \"TA\"]\n",
    "\n",
    "NoncodingForces_v2_1.DimerForce(sequence, motifs)"
   ]
  },
  {
   "cell_type": "markdown",
   "id": "08b4c206",
   "metadata": {},
   "source": [
    "Notice how the CpG force changed in the 3 cases, due to the fact that different motifs (as well as fields) interact. \n",
    "When the full set of dinucleotides is inferred, the system of equations solved to obtain forces is underdetermined. This means that a gauge choice must be made, for instance by setting some forces to zero by passing less than 16 dinucleotides as motifs.\n",
    "If such a choise is not made, the script does it, as follows:"
   ]
  },
  {
   "cell_type": "code",
   "execution_count": 6,
   "id": "d22e6aa7",
   "metadata": {},
   "outputs": [
    {
     "data": {
      "text/plain": [
       "Dict{String, Float64} with 20 entries:\n",
       "  \"T\"  => -1.51866\n",
       "  \"C\"  => -1.58002\n",
       "  \"CC\" => 0.0\n",
       "  \"GC\" => -0.0745032\n",
       "  \"GG\" => 0.0\n",
       "  \"CG\" => -0.923865\n",
       "  \"AT\" => 0.0\n",
       "  \"A\"  => -1.15173\n",
       "  \"CA\" => 0.244623\n",
       "  \"TG\" => 0.0438542\n",
       "  \"TA\" => -0.499717\n",
       "  \"GT\" => 0.0\n",
       "  \"G\"  => -1.35119\n",
       "  \"GA\" => 0.319797\n",
       "  \"TT\" => 0.0\n",
       "  \"AC\" => -0.152997\n",
       "  \"CT\" => 0.0\n",
       "  \"AA\" => 0.0\n",
       "  \"AG\" => -0.178605\n",
       "  \"TC\" => 0.0621285"
      ]
     },
     "execution_count": 6,
     "metadata": {},
     "output_type": "execute_result"
    }
   ],
   "source": [
    "alphabet = [\"A\", \"C\", \"G\", \"T\"]\n",
    "motifs = [a*b for a in alphabet for b in alphabet]\n",
    "\n",
    "NoncodingForces_v2_1.DimerForce(sequence, motifs)"
   ]
  },
  {
   "cell_type": "markdown",
   "id": "cc02b623",
   "metadata": {},
   "source": [
    "In particular, the gauge chosen is so that:\n",
    "- the exponential of the fields sum to 1;\n",
    "- the forces for dinucleotides of the form NN and those of the form NT are put to zero.\n",
    "\n",
    "Notice that the script allows for flexible choices: if not all the dinucleotides are given, the gauge is always chosen such that the maximum possible number of the nucleotides of the form NN and NT have forces equal to zero:"
   ]
  },
  {
   "cell_type": "code",
   "execution_count": 7,
   "id": "a7a74f23",
   "metadata": {},
   "outputs": [
    {
     "data": {
      "text/plain": [
       "Dict{String, Float64} with 10 entries:\n",
       "  \"AC\" => -0.15147\n",
       "  \"AT\" => 0.0\n",
       "  \"A\"  => -1.10232\n",
       "  \"T\"  => -1.35861\n",
       "  \"C\"  => -1.75463\n",
       "  \"AG\" => 0.00906447\n",
       "  \"CA\" => 0.463157\n",
       "  \"G\"  => -1.43586\n",
       "  \"TA\" => -0.613914\n",
       "  \"GA\" => 0.262192"
      ]
     },
     "execution_count": 7,
     "metadata": {},
     "output_type": "execute_result"
    }
   ],
   "source": [
    "motifs = [\"AC\", \"AG\", \"AT\", \"CA\", \"GA\", \"TA\"]\n",
    "NoncodingForces_v2_1.DimerForce(sequence, motifs)"
   ]
  },
  {
   "cell_type": "code",
   "execution_count": 8,
   "id": "7f1f43a1",
   "metadata": {},
   "outputs": [
    {
     "data": {
      "text/plain": [
       "Dict{String, Float64} with 16 entries:\n",
       "  \"T\"  => -1.51982\n",
       "  \"C\"  => -1.58108\n",
       "  \"GC\" => -0.0729455\n",
       "  \"CG\" => -0.92149\n",
       "  \"AT\" => 0.0\n",
       "  \"A\"  => -1.14948\n",
       "  \"CA\" => 0.242638\n",
       "  \"TG\" => 0.0479148\n",
       "  \"G\"  => -1.35211\n",
       "  \"TA\" => -0.500021\n",
       "  \"GT\" => 0.0\n",
       "  \"GA\" => 0.317307\n",
       "  \"AC\" => -0.151731\n",
       "  \"CT\" => 0.0\n",
       "  \"AG\" => -0.177023\n",
       "  \"TC\" => 0.0658733"
      ]
     },
     "execution_count": 8,
     "metadata": {},
     "output_type": "execute_result"
    }
   ],
   "source": [
    "motifs = [\n",
    " \"AC\",\n",
    " \"AG\",\n",
    " \"AT\",\n",
    " \"CA\",\n",
    "\n",
    " \"CG\",\n",
    " \"CT\",\n",
    " \"GA\",\n",
    " \"GC\",\n",
    "\n",
    " \"GT\",\n",
    " \"TA\",\n",
    " \"TC\",\n",
    " \"TG\",\n",
    "]\n",
    "NoncodingForces_v2_1.DimerForce(sequence, motifs)"
   ]
  },
  {
   "cell_type": "markdown",
   "id": "167e1072",
   "metadata": {},
   "source": [
    "Notice that when dinucleotides are not given, this is equivalent to fix to 0 their forces. Depending on which dinucleotides are not given, this might or not be a specific gauge - in other words, it might or not result in an equivalent model.\n",
    "For instance, the following three cells result in equivalent models (although the third has different parameters because it is in another gauge), while the fourth does not:"
   ]
  },
  {
   "cell_type": "code",
   "execution_count": 9,
   "id": "46525c9b",
   "metadata": {},
   "outputs": [
    {
     "data": {
      "text/plain": [
       "Dict{String, Float64} with 10 entries:\n",
       "  \"AC\" => -0.15147\n",
       "  \"AT\" => 0.0\n",
       "  \"A\"  => -1.10232\n",
       "  \"T\"  => -1.35861\n",
       "  \"C\"  => -1.75463\n",
       "  \"AG\" => 0.00906447\n",
       "  \"CA\" => 0.463157\n",
       "  \"G\"  => -1.43586\n",
       "  \"TA\" => -0.613914\n",
       "  \"GA\" => 0.262192"
      ]
     },
     "execution_count": 9,
     "metadata": {},
     "output_type": "execute_result"
    }
   ],
   "source": [
    "motifs = [\"AC\", \"AG\", \"AT\", \"CA\", \"GA\", \"TA\"]\n",
    "NoncodingForces_v2_1.DimerForce(sequence, motifs)"
   ]
  },
  {
   "cell_type": "code",
   "execution_count": 10,
   "id": "db94c552",
   "metadata": {},
   "outputs": [
    {
     "data": {
      "text/plain": [
       "Dict{String, Float64} with 9 entries:\n",
       "  \"AC\" => -0.15147\n",
       "  \"A\"  => -1.10232\n",
       "  \"T\"  => -1.35861\n",
       "  \"C\"  => -1.75463\n",
       "  \"AG\" => 0.00906447\n",
       "  \"CA\" => 0.463157\n",
       "  \"G\"  => -1.43586\n",
       "  \"TA\" => -0.613914\n",
       "  \"GA\" => 0.262192"
      ]
     },
     "execution_count": 10,
     "metadata": {},
     "output_type": "execute_result"
    }
   ],
   "source": [
    "motifs = [\"AC\", \"AG\", \"CA\", \"GA\", \"TA\"]\n",
    "NoncodingForces_v2_1.DimerForce(sequence, motifs)"
   ]
  },
  {
   "cell_type": "code",
   "execution_count": 11,
   "id": "9f381dea",
   "metadata": {},
   "outputs": [
    {
     "data": {
      "text/plain": [
       "Dict{String, Float64} with 9 entries:\n",
       "  \"AT\" => 0.170807\n",
       "  \"A\"  => -1.10216\n",
       "  \"T\"  => -1.36147\n",
       "  \"C\"  => -1.75115\n",
       "  \"AG\" => 0.17067\n",
       "  \"CA\" => 0.301661\n",
       "  \"G\"  => -1.43553\n",
       "  \"TA\" => -0.775411\n",
       "  \"GA\" => 0.100696"
      ]
     },
     "execution_count": 11,
     "metadata": {},
     "output_type": "execute_result"
    }
   ],
   "source": [
    "motifs = [\"AG\", \"AT\", \"CA\", \"GA\", \"TA\"]\n",
    "NoncodingForces_v2_1.DimerForce(sequence, motifs)"
   ]
  },
  {
   "cell_type": "code",
   "execution_count": 12,
   "id": "3c6a149b",
   "metadata": {},
   "outputs": [
    {
     "data": {
      "text/plain": [
       "Dict{String, Float64} with 8 entries:\n",
       "  \"A\"  => -1.10409\n",
       "  \"T\"  => -1.33658\n",
       "  \"C\"  => -1.78238\n",
       "  \"AG\" => 0.079359\n",
       "  \"CA\" => 0.39291\n",
       "  \"G\"  => -1.43756\n",
       "  \"TA\" => -0.684162\n",
       "  \"GA\" => 0.191945"
      ]
     },
     "execution_count": 12,
     "metadata": {},
     "output_type": "execute_result"
    }
   ],
   "source": [
    "motifs = [\"AG\", \"CA\", \"GA\", \"TA\"]\n",
    "NoncodingForces_v2_1.DimerForce(sequence, motifs)"
   ]
  },
  {
   "cell_type": "markdown",
   "id": "88333bc1",
   "metadata": {},
   "source": [
    "In some cases (notably when all the dinucleotides are given), fixing fields is equivalent to fix (part of) a gauge, so the model is independendent on this choice (although the values of the inferred parameters depend on that)."
   ]
  },
  {
   "cell_type": "code",
   "execution_count": null,
   "id": "9f302b6d",
   "metadata": {},
   "outputs": [],
   "source": []
  },
  {
   "cell_type": "markdown",
   "id": "2343b805",
   "metadata": {},
   "source": [
    "Given a sequence, the package allows to compute easily its energy"
   ]
  },
  {
   "cell_type": "code",
   "execution_count": 13,
   "id": "a8dc190f",
   "metadata": {},
   "outputs": [
    {
     "data": {
      "text/plain": [
       "-3060.7803535779112"
      ]
     },
     "execution_count": 13,
     "metadata": {},
     "output_type": "execute_result"
    }
   ],
   "source": [
    "tf = NoncodingForces_v2_1.DimerForce(sequence, motifs)\n",
    "NoncodingForces_v2_1.compute_energy(sequence, tf)"
   ]
  },
  {
   "cell_type": "markdown",
   "id": "61cf4bb1",
   "metadata": {},
   "source": [
    "and its log-likelihood (energy minus log of partition function)"
   ]
  },
  {
   "cell_type": "code",
   "execution_count": 15,
   "id": "ebc4f73f",
   "metadata": {},
   "outputs": [
    {
     "data": {
      "text/plain": [
       "-3104.7330602437264"
      ]
     },
     "execution_count": 15,
     "metadata": {},
     "output_type": "execute_result"
    }
   ],
   "source": [
    "NoncodingForces_v2_1.compute_loglikelihood(sequence, tf)"
   ]
  },
  {
   "cell_type": "markdown",
   "id": "bbd176f4",
   "metadata": {},
   "source": [
    "To make sense of this large negative log-likelihood, consider that in the uniform case we have $4^L$ sequences, so the log-likelihood of each of them would be:"
   ]
  },
  {
   "cell_type": "code",
   "execution_count": 16,
   "id": "72ec78e5",
   "metadata": {},
   "outputs": [
    {
     "data": {
      "text/plain": [
       "-3160.7511433533505"
      ]
     },
     "execution_count": 16,
     "metadata": {},
     "output_type": "execute_result"
    }
   ],
   "source": [
    "- length(sequence) * log(4)"
   ]
  },
  {
   "cell_type": "markdown",
   "id": "e8c6aadb",
   "metadata": {},
   "source": [
    "Notice that the function `compute_loglikelihood` computes the partition function each time it is runned. To avoid this, the log of the partition function can be passed directly:"
   ]
  },
  {
   "cell_type": "code",
   "execution_count": 25,
   "id": "db366ac0",
   "metadata": {},
   "outputs": [
    {
     "name": "stdout",
     "output_type": "stream",
     "text": [
      "  0.000386 seconds (4.22 k allocations: 379.516 KiB)\n"
     ]
    },
    {
     "data": {
      "text/plain": [
       "-3104.7330602437264"
      ]
     },
     "execution_count": 25,
     "metadata": {},
     "output_type": "execute_result"
    }
   ],
   "source": [
    "@time begin\n",
    "NoncodingForces_v2_1.compute_loglikelihood(sequence, tf)\n",
    "end"
   ]
  },
  {
   "cell_type": "code",
   "execution_count": 26,
   "id": "fafdc341",
   "metadata": {},
   "outputs": [
    {
     "data": {
      "text/plain": [
       "43.95270666581519"
      ]
     },
     "execution_count": 26,
     "metadata": {},
     "output_type": "execute_result"
    }
   ],
   "source": [
    "ks = keys(tf)\n",
    "k1 = [k for k in ks if length(k)==1]\n",
    "k2 = [k for k in ks if length(k)==2]\n",
    "fields = [tf[k] for k in k1]\n",
    "forces = [tf[k] for k in k2]\n",
    "L = length(sequence)\n",
    "logZ = NoncodingForces_v2_1.eval_log_Z(fields, forces, k2, L)"
   ]
  },
  {
   "cell_type": "code",
   "execution_count": 27,
   "id": "8fbcd0fa",
   "metadata": {},
   "outputs": [
    {
     "name": "stdout",
     "output_type": "stream",
     "text": [
      "  0.000136 seconds (1.44 k allocations: 89.922 KiB)\n"
     ]
    },
    {
     "data": {
      "text/plain": [
       "-3104.7330602437264"
      ]
     },
     "execution_count": 27,
     "metadata": {},
     "output_type": "execute_result"
    }
   ],
   "source": [
    "@time begin\n",
    "NoncodingForces_v2_1.compute_loglikelihood(sequence, tf; logZ=logZ)\n",
    "end"
   ]
  },
  {
   "cell_type": "code",
   "execution_count": null,
   "id": "3635738d",
   "metadata": {},
   "outputs": [],
   "source": []
  },
  {
   "cell_type": "markdown",
   "id": "41620b80",
   "metadata": {},
   "source": [
    "# From here on, it is work in progress!!!"
   ]
  },
  {
   "cell_type": "code",
   "execution_count": null,
   "id": "79332a1d",
   "metadata": {},
   "outputs": [],
   "source": [
    "##########################################################################\n",
    "##########################################################################"
   ]
  },
  {
   "cell_type": "code",
   "execution_count": null,
   "id": "a962e091",
   "metadata": {},
   "outputs": [],
   "source": [
    "# this below seems not to work well..."
   ]
  },
  {
   "cell_type": "markdown",
   "id": "6b37cbd7",
   "metadata": {},
   "source": [
    "Using \"add_pseudocount = true\", a single pseudocount is added to the number of each motif inferred (nucleotide or di-nucleotide):"
   ]
  },
  {
   "cell_type": "code",
   "execution_count": 22,
   "id": "f0e87444",
   "metadata": {},
   "outputs": [
    {
     "data": {
      "text/plain": [
       "\"ATGGAGAGAATAAAAGAATTAAGGGATCTAATGTCACAGTCCCGCACTCGCGAGATACTAACAAAAACCACTGTGGACCATATGGCCATAATCAAGAAGTACACATCAGGAAGACAAGAGAAGAACCCTGCTCTCAGAATGAAATGGATGATGGCAATGAAATATCCAATCACAGCGGACAAGAGAATAACAGAGATGATTCCTGAAAGGAATGAACAAGGGCAGACGCTCTGGAGCAAGACAAATGATGCCGGATCGGACAGGTTGATGGTGTCTCCCTTAGCTGTAACTTGGTGGAATAGGAATGGGCCGACGACAAGTGCAGTCCATTATCCAAAGGTTTACAAAACATACTTTGAGAAGGCTGAAAGGCTAAAACATGGAACCTTCGGTCCCGTCCATTTTCGAAACCAAGTTAAAATACGCCGCCGAGTTGATATAAATCCTGGCCATGCAGATCTCAGTGCTAAAGAAGCACAAGATGTCATCATGGAGGTCGT\""
      ]
     },
     "execution_count": 22,
     "metadata": {},
     "output_type": "execute_result"
    }
   ],
   "source": [
    "short_sequence = sequence[1:500]"
   ]
  },
  {
   "cell_type": "code",
   "execution_count": 24,
   "id": "6756dbd8",
   "metadata": {},
   "outputs": [
    {
     "data": {
      "text/plain": [
       "Dict{String, Float64} with 20 entries:\n",
       "  \"T\"  => -1.78999\n",
       "  \"C\"  => -1.46096\n",
       "  \"CC\" => 0.0\n",
       "  \"GC\" => -0.0881668\n",
       "  \"GG\" => 0.0\n",
       "  \"CG\" => -0.673973\n",
       "  \"AT\" => 0.0\n",
       "  \"A\"  => -1.02452\n",
       "  \"CA\" => 0.201549\n",
       "  \"TG\" => 0.285663\n",
       "  \"TA\" => -0.190423\n",
       "  \"GT\" => 0.0\n",
       "  \"G\"  => -1.41859\n",
       "  \"GA\" => 0.470057\n",
       "  \"TT\" => 0.0\n",
       "  \"AC\" => -0.497816\n",
       "  \"CT\" => 0.0\n",
       "  \"AA\" => 0.0\n",
       "  \"AG\" => -0.420048\n",
       "  \"TC\" => 0.323648"
      ]
     },
     "execution_count": 24,
     "metadata": {},
     "output_type": "execute_result"
    }
   ],
   "source": [
    "alphabet = [\"A\", \"C\", \"G\", \"T\"]\n",
    "motifs = [a*b for a in alphabet for b in alphabet]\n",
    "NoncodingForces_v2_1.DimerForce(short_sequence, motifs; add_pseudocount=false)"
   ]
  },
  {
   "cell_type": "code",
   "execution_count": 23,
   "id": "e537aa2d",
   "metadata": {},
   "outputs": [
    {
     "data": {
      "text/plain": [
       "Dict{String, Float64} with 20 entries:\n",
       "  \"T\"  => -3.3792\n",
       "  \"C\"  => -1.30829\n",
       "  \"CC\" => 0.0\n",
       "  \"GC\" => -0.0826845\n",
       "  \"GG\" => 0.0\n",
       "  \"CG\" => -0.645923\n",
       "  \"AT\" => 0.0\n",
       "  \"A\"  => -0.881581\n",
       "  \"CA\" => 0.191599\n",
       "  \"TG\" => 2.18227\n",
       "  \"TA\" => 1.71958\n",
       "  \"GT\" => 0.0\n",
       "  \"G\"  => -1.26757\n",
       "  \"GA\" => 0.455001\n",
       "  \"TT\" => 0.0\n",
       "  \"AC\" => -0.48536\n",
       "  \"CT\" => 0.0\n",
       "  \"AA\" => 0.0\n",
       "  \"AG\" => -0.409147\n",
       "  \"TC\" => 2.21938"
      ]
     },
     "execution_count": 23,
     "metadata": {},
     "output_type": "execute_result"
    }
   ],
   "source": [
    "alphabet = [\"A\", \"C\", \"G\", \"T\"]\n",
    "motifs = [a*b for a in alphabet for b in alphabet]\n",
    "NoncodingForces_v2_1.DimerForce(short_sequence, motifs; add_pseudocount=true)"
   ]
  },
  {
   "cell_type": "code",
   "execution_count": 25,
   "id": "7664ba8f",
   "metadata": {
    "scrolled": true
   },
   "outputs": [
    {
     "data": {
      "text/plain": [
       "Dict{String, Float64} with 20 entries:\n",
       "  \"T\"  => NaN\n",
       "  \"C\"  => NaN\n",
       "  \"CC\" => NaN\n",
       "  \"GC\" => NaN\n",
       "  \"GG\" => NaN\n",
       "  \"CG\" => NaN\n",
       "  \"AT\" => NaN\n",
       "  \"A\"  => NaN\n",
       "  \"CA\" => NaN\n",
       "  \"TG\" => NaN\n",
       "  \"TA\" => NaN\n",
       "  \"GT\" => NaN\n",
       "  \"G\"  => NaN\n",
       "  \"GA\" => NaN\n",
       "  \"TT\" => 0.0\n",
       "  \"AC\" => NaN\n",
       "  \"CT\" => NaN\n",
       "  \"AA\" => NaN\n",
       "  \"AG\" => NaN\n",
       "  \"TC\" => NaN"
      ]
     },
     "execution_count": 25,
     "metadata": {},
     "output_type": "execute_result"
    }
   ],
   "source": [
    "short_sequence = sequence[1:200]\n",
    "alphabet = [\"A\", \"C\", \"G\", \"T\"]\n",
    "motifs = [a*b for a in alphabet for b in alphabet]\n",
    "NoncodingForces_v2_1.DimerForce(short_sequence, motifs; add_pseudocount=true)"
   ]
  },
  {
   "cell_type": "code",
   "execution_count": 26,
   "id": "a13038cf",
   "metadata": {},
   "outputs": [
    {
     "ename": "LoadError",
     "evalue": "LinearAlgebra.SingularException(1)",
     "output_type": "error",
     "traceback": [
      "LinearAlgebra.SingularException(1)",
      "",
      "Stacktrace:",
      "  [1] checknonsingular",
      "    @ C:\\buildbot\\worker\\package_win64\\build\\usr\\share\\julia\\stdlib\\v1.6\\LinearAlgebra\\src\\factorization.jl:19 [inlined]",
      "  [2] checknonsingular",
      "    @ C:\\buildbot\\worker\\package_win64\\build\\usr\\share\\julia\\stdlib\\v1.6\\LinearAlgebra\\src\\factorization.jl:21 [inlined]",
      "  [3] #lu!#132",
      "    @ C:\\buildbot\\worker\\package_win64\\build\\usr\\share\\julia\\stdlib\\v1.6\\LinearAlgebra\\src\\lu.jl:85 [inlined]",
      "  [4] lu!(A::LinearAlgebra.Symmetric{Float64, Matrix{Float64}}, pivot::Val{true}; check::Bool)",
      "    @ LinearAlgebra C:\\buildbot\\worker\\package_win64\\build\\usr\\share\\julia\\stdlib\\v1.6\\LinearAlgebra\\src\\lu.jl:90",
      "  [5] #lu#136",
      "    @ C:\\buildbot\\worker\\package_win64\\build\\usr\\share\\julia\\stdlib\\v1.6\\LinearAlgebra\\src\\lu.jl:273 [inlined]",
      "  [6] lu (repeats 2 times)",
      "    @ C:\\buildbot\\worker\\package_win64\\build\\usr\\share\\julia\\stdlib\\v1.6\\LinearAlgebra\\src\\lu.jl:272 [inlined]",
      "  [7] _inv(A::LinearAlgebra.Symmetric{Float64, Matrix{Float64}})",
      "    @ LinearAlgebra C:\\buildbot\\worker\\package_win64\\build\\usr\\share\\julia\\stdlib\\v1.6\\LinearAlgebra\\src\\symmetric.jl:658",
      "  [8] inv",
      "    @ C:\\buildbot\\worker\\package_win64\\build\\usr\\share\\julia\\stdlib\\v1.6\\LinearAlgebra\\src\\symmetric.jl:673 [inlined]",
      "  [9] DimerForce_withFields(seq::String, nucleotides::Vector{Char}, motifs::Vector{String}; tolerance::Float64, max_iter::Int64, add_pseudocount::Bool, using_rna::Bool)",
      "    @ NoncodingForces_v2_1 ~\\data_work\\repos\\DinucleotideForces.jl\\NoncodingForces_v2_1.jl:206",
      " [10] DimerForce(seq::String, motifs::Vector{String}; freqs::Missing, tolerance::Float64, max_iter::Int64, add_pseudocount::Bool, using_rna::Bool)",
      "    @ NoncodingForces_v2_1 ~\\data_work\\repos\\DinucleotideForces.jl\\NoncodingForces_v2_1.jl:267",
      " [11] top-level scope",
      "    @ In[26]:4",
      " [12] eval",
      "    @ .\\boot.jl:360 [inlined]",
      " [13] include_string(mapexpr::typeof(REPL.softscope), mod::Module, code::String, filename::String)",
      "    @ Base .\\loading.jl:1094"
     ]
    }
   ],
   "source": [
    "short_sequence = sequence[1:100]\n",
    "alphabet = [\"A\", \"C\", \"G\", \"T\"]\n",
    "motifs = [a*b for a in alphabet for b in alphabet]\n",
    "NoncodingForces_v2_1.DimerForce(short_sequence, motifs; add_pseudocount=true)"
   ]
  },
  {
   "cell_type": "code",
   "execution_count": null,
   "id": "37be7bb1",
   "metadata": {},
   "outputs": [],
   "source": []
  },
  {
   "cell_type": "code",
   "execution_count": null,
   "id": "f9438e53",
   "metadata": {},
   "outputs": [],
   "source": []
  },
  {
   "cell_type": "code",
   "execution_count": null,
   "id": "7f336872",
   "metadata": {},
   "outputs": [],
   "source": [
    "##########################################################################\n",
    "##########################################################################"
   ]
  },
  {
   "cell_type": "markdown",
   "id": "a1814c42",
   "metadata": {},
   "source": [
    "Here is a disturbing bug: the forces and fields are computed so that the sequence loglikelihood is maximized. However, here I show that the forces computed for the minibat sequence (but the same happens with the full sequences) give a higher loglikelihood to the miniSARS2 sequence with respect to the forces computed on miniSARS2 itself."
   ]
  },
  {
   "cell_type": "code",
   "execution_count": 4,
   "id": "c04bef96",
   "metadata": {},
   "outputs": [],
   "source": [
    "# this are the first 5000 nucleotides of GISAID reference SARS2 sequence and of RatG13, a bat sequence very close to it.\n",
    "miniSARS2 = \"ATTAAAGGTTTATACCTTCCCAGGTAACAAACCAACCAACTTTCGATCTCTTGTAGATCTGTTCTCTAAACGAACTTTAAAATCTGTGTGGCTGTCACTCGGCTGCATGCTTAGTGCACTCACGCAGTATAATTAATAACTAATTACTGTCGTTGACAGGACACGAGTAACTCGTCTATCTTCTGCAGGCTGCTTACGGTTTCGTCCGTGTTGCAGCCGATCATCAGCACATCTAGGTTTCGTCCGGGTGTGACCGAAAGGTAAGATGGAGAGCCTTGTCCCTGGTTTCAACGAGAAAACACACGTCCAACTCAGTTTGCCTGTTTTACAGGTTCGCGACGTGCTCGTACGTGGCTTTGGAGACTCCGTGGAGGAGGTCTTATCAGAGGCACGTCAACATCTTAAAGATGGCACTTGTGGCTTAGTAGAAGTTGAAAAAGGCGTTTTGCCTCAACTTGAACAGCCCTATGTGTTCATCAAACGTTCGGATGCTCGAACTGCACCTCATGGTCATGTTATGGTTGAGCTGGTAGCAGAACTCGAAGGCATTCAGTACGGTCGTAGTGGTGAGACACTTGGTGTCCTTGTCCCTCATGTGGGCGAAATACCAGTGGCTTACCGCAAGGTTCTTCTTCGTAAGAACGGTAATAAAGGAGCTGGTGGCCATAGTTACGGCGCCGATCTAAAGTCATTTGACTTAGGCGACGAGCTTGGCACTGATCCTTATGAAGATTTTCAAGAAAACTGGAACACTAAACATAGCAGTGGTGTTACCCGTGAACTCATGCGTGAGCTTAACGGAGGGGCATACACTCGCTATGTCGATAACAACTTCTGTGGCCCTGATGGCTACCCTCTTGAGTGCATTAAAGACCTTCTAGCACGTGCTGGTAAAGCTTCATGCACTTTGTCCGAACAACTGGACTTTATTGACACTAAGAGGGGTGTATACTGCTGCCGTGAACATGAGCATGAAATTGCTTGGTACACGGAACGTTCTGAAAAGAGCTATGAATTGCAGACACCTTTTGAAATTAAATTGGCAAAGAAATTTGACACCTTCAATGGGGAATGTCCAAATTTTGTATTTCCCTTAAATTCCATAATCAAGACTATTCAACCAAGGGTTGAAAAGAAAAAGCTTGATGGCTTTATGGGTAGAATTCGATCTGTCTATCCAGTTGCGTCACCAAATGAATGCAACCAAATGTGCCTTTCAACTCTCATGAAGTGTGATCATTGTGGTGAAACTTCATGGCAGACGGGCGATTTTGTTAAAGCCACTTGCGAATTTTGTGGCACTGAGAATTTGACTAAAGAAGGTGCCACTACTTGTGGTTACTTACCCCAAAATGCTGTTGTTAAAATTTATTGTCCAGCATGTCACAATTCAGAAGTAGGACCTGAGCATAGTCTTGCCGAATACCATAATGAATCTGGCTTGAAAACCATTCTTCGTAAGGGTGGTCGCACTATTGCCTTTGGAGGCTGTGTGTTCTCTTATGTTGGTTGCCATAACAAGTGTGCCTATTGGGTTCCACGTGCTAGCGCTAACATAGGTTGTAACCATACAGGTGTTGTTGGAGAAGGTTCCGAAGGTCTTAATGACAACCTTCTTGAAATACTCCAAAAAGAGAAAGTCAACATCAATATTGTTGGTGACTTTAAACTTAATGAAGAGATCGCCATTATTTTGGCATCTTTTTCTGCTTCCACAAGTGCTTTTGTGGAAACTGTGAAAGGTTTGGATTATAAAGCATTCAAACAAATTGTTGAATCCTGTGGTAATTTTAAAGTTACAAAAGGAAAAGCTAAAAAAGGTGCCTGGAATATTGGTGAACAGAAATCAATACTGAGTCCTCTTTATGCATTTGCATCAGAGGCTGCTCGTGTTGTACGATCAATTTTCTCCCGCACTCTTGAAACTGCTCAAAATTCTGTGCGTGTTTTACAGAAGGCCGCTATAACAATACTAGATGGAATTTCACAGTATTCACTGAGACTCATTGATGCTATGATGTTCACATCTGATTTGGCTACTAACAATCTAGTTGTAATGGCCTACATTACAGGTGGTGTTGTTCAGTTGACTTCGCAGTGGCTAACTAACATCTTTGGCACTGTTTATGAAAAACTCAAACCCGTCCTTGATTGGCTTGAAGAGAAGTTTAAGGAAGGTGTAGAGTTTCTTAGAGACGGTTGGGAAATTGTTAAATTTATCTCAACCTGTGCTTGTGAAATTGTCGGTGGACAAATTGTCACCTGTGCAAAGGAAATTAAGGAGAGTGTTCAGACATTCTTTAAGCTTGTAAATAAATTTTTGGCTTTGTGTGCTGACTCTATCATTATTGGTGGAGCTAAACTTAAAGCCTTGAATTTAGGTGAAACATTTGTCACGCACTCAAAGGGATTGTACAGAAAGTGTGTTAAATCCAGAGAAGAAACTGGCCTACTCATGCCTCTAAAAGCCCCAAAAGAAATTATCTTCTTAGAGGGAGAAACACTTCCCACAGAAGTGTTAACAGAGGAAGTTGTCTTGAAAACTGGTGATTTACAACCATTAGAACAACCTACTAGTGAAGCTGTTGAAGCTCCATTGGTTGGTACACCAGTTTGTATTAACGGGCTTATGTTGCTCGAAATCAAAGACACAGAAAAGTACTGTGCCCTTGCACCTAATATGATGGTAACAAACAATACCTTCACACTCAAAGGCGGTGCACCAACAAAGGTTACTTTTGGTGATGACACTGTGATAGAAGTGCAAGGTTACAAGAGTGTGAATATCACTTTTGAACTTGATGAAAGGATTGATAAAGTACTTAATGAGAAGTGCTCTGCCTATACAGTTGAACTCGGTACAGAAGTAAATGAGTTCGCCTGTGTTGTGGCAGATGCTGTCATAAAAACTTTGCAACCAGTATCTGAATTACTTACACCACTGGGCATTGATTTAGATGAGTGGAGTATGGCTACATACTACTTATTTGATGAGTCTGGTGAGTTTAAATTGGCTTCACATATGTATTGTTCTTTCTACCCTCCAGATGAGGATGAAGAAGAAGGTGATTGTGAAGAAGAAGAGTTTGAGCCATCAACTCAATATGAGTATGGTACTGAAGATGATTACCAAGGTAAACCTTTGGAATTTGGTGCCACTTCTGCTGCTCTTCAACCTGAAGAAGAGCAAGAAGAAGATTGGTTAGATGATGATAGTCAACAAACTGTTGGTCAACAAGACGGCAGTGAGGACAATCAGACAACTACTATTCAAACAATTGTTGAGGTTCAACCTCAATTAGAGATGGAACTTACACCAGTTGTTCAGACTATTGAAGTGAATAGTTTTAGTGGTTATTTAAAACTTACTGACAATGTATACATTAAAAATGCAGACATTGTGGAAGAAGCTAAAAAGGTAAAACCAACAGTGGTTGTTAATGCAGCCAATGTTTACCTTAAACATGGAGGAGGTGTTGCAGGAGCCTTAAATAAGGCTACTAACAATGCCATGCAAGTTGAATCTGATGATTACATAGCTACTAATGGACCACTTAAAGTGGGTGGTAGTTGTGTTTTAAGCGGACACAATCTTGCTAAACACTGTCTTCATGTTGTCGGCCCAAATGTTAACAAAGGTGAAGACATTCAACTTCTTAAGAGTGCTTATGAAAATTTTAATCAGCACGAAGTTCTACTTGCACCATTATTATCAGCTGGTATTTTTGGTGCTGACCCTATACATTCTTTAAGAGTTTGTGTAGATACTGTTCGCACAAATGTCTACTTAGCTGTCTTTGATAAAAATCTCTATGACAAACTTGTTTCAAGCTTTTTGGAAATGAAGAGTGAAAAGCAAGTTGAACAAAAGATCGCTGAGATTCCTAAAGAGGAAGTTAAGCCATTTATAACTGAAAGTAAACCTTCAGTTGAACAGAGAAAACAAGATGATAAGAAAATCAAAGCTTGTGTTGAAGAAGTTACAACAACTCTGGAAGAAACTAAGTTCCTCACAGAAAACTTGTTACTTTATATTGACATTAATGGCAATCTTCATCCAGATTCTGCCACTCTTGTTAGTGACATTGACATCACTTTCTTAAAGAAAGATGCTCCATATATAGTGGGTGATGTTGTTCAAGAGGGTGTTTTAACTGCTGTGGTTATACCTACTAAAAAGGCTGGTGGCACTACTGAAATGCTAGCGAAAGCTTTGAGAAAAGTGCCAACAGACAATTATATAACCACTTACCCGGGTCAGGGTTTAAATGGTTACACTGTAGAGGAGGCAAAGACAGTGCTTAAAAAGTGTAAAAGTGCCTTTTACATTCTACCATCTATTATCTCTAATGAGAAGCAAGAAATTCTTGGAACTGTTTCTTGGAATTTGCGAGAAATGCTTGCACATGCAGAAGAAACACGCAAATTAATGCCTGTCTGTGTGGAAACTAAAGCCATAGTTTCAACTATACAGCGTAAATATAAGGGTATTAAAATACAAGAGGGTGTGGTTGATTATGGTGCTAGATTTTACTTTTACACCAGTAAAACAACTGTAGCGTCACTTATCAACACACTTAACGATCTAAATGAAACTCTTGTTACAATGCCACTTGGCTATGTAACACATGGCTTAAATTTGGAAGAAGCTGCTCGGTATATGAGATCTCTCAAAGTGCCAGCTACAGTTTCTGTTTCTTCACCTGATGCTGTTACAGCGTATAATGGTTATCTTACTTCTTCTTCTAAAACACCTGAAGAACATTTTATTGAAACCATCTCACTTGCTGGTTCCTATAAAGATTGGTCCTATTCTGGACAATCTACACAACTAGGTATAGAATTTCTTAAGAGAGGTGATAAAAGTGTATATTACACTAGTAATCCTACCACATTCCACCTAGATGGTGAAGTTATCACCTTTGACAATCTTAAGACACTTCTTTCTTTGAGAGAAGTGAGGACTATTAAGGTGTTTACAACAGTAGACAACATTAACC\"\n",
    "minibat =   \"CTTTCCAGGTAACAAACCAACGAACTCTCGATCTCTTGTAGATCTGTTCTCTAAACGAACTTTAAAATCTGTGTGACTGTCACTCGGCTGCATGCTTAGTGCACTCACGCAGTATAATTAATAACTAATTACTGTCGTTGACAGGACACGAGTAACTCATCTATCTTCTGCAGGTTGCTTACGGTTTCGTCCGTGTTGCAGCCGATCATCAGCACATCTAGGTTTCGTCCGGGTGTGACCGAAAGGTAAGATGGAGAGCCTTGTCCCTGGTTTCAACGAGAAAACACACGTCCAACTCAGTTTGCCTGTCTTACAGGTTCGCGACGTGCTCGTACGTGGCTTTGGAGACTCCGTGGAGGAGGCTTTATCAGAGGCACGTCAACATCTTAAAGATGGCACTTGTGGCTTAGTAGAAGTTGAAAAAGGTGTTTTGCCTCAACTTGAACAGCCCTATGTGTTCATCAAACGTTCTGATGCTCGAACTGCACCTCATGGCCATGTTATGGTTGAGCTGGTAGCAGAACTTAATGGCATTCAGTATGGTCGTAGTGGTGAGACACTCGGTGTCCTTGTCCCTTATGTGGGCGAAACACCAGTGGTTTACCGCAAGGTTCTTCTTCGTAAGAACGGTAATAAAGGAGCTGGTGGCCATAGTTACGGCGCTGATCTAAAGTCGTTTGACTTAGGCGACGAGCTTGGCACTGATCCTTATGAAGATTTTCAAGAAAACTGGAACACTAAACATAGCAGTGGTGTCACCCGTGATCTCATGCGTGAGCTTAATGGAGGAGCATACACTCGCTATGTCGATAACAACTTCTGTGGCCCTGATGGCTACCCTCTTGAGTGCATTAAAGACCTTCTAGCTCGTGCTGGTAAAGCTTCATGCACTTTGTCCGAACAACTGGACTTTATTGACACTAAAAGAGGTGTATACTGCTGTCGTGAACATGAGCATGAGATTGCTTGGTACACGGAACGTTCTGAAAAGAGCTATGAATTGCAGACACCTTTTGAAATTAAATTGGCAAAGAAATTTGACACATTTAATGGGGAATGTCCAAATTTTGTATTCCCCCTAAATTCCACAATCAAGACTATTCAACCAAGGGTTGAAAAGAAAAAGCTTGATGGCTTTATGGGTAGAATTCGATCTGTCTATCCAGTTGCTTCACCAAATGAATGCAACCAAATGTGCCTTTCAACTCTCATGAAGTGTGATCATTGTGGTGAAACTTCATGGCAGACAGGCGATTTTGTTAAAGCCACTTGTGAATTTTGTGGCACTGAAAATTTGACTAAAGAGGGTGCCACTACTTGTGGTTACCTACCCCAAAATGCTGTTGTCAAAATTTATTGTCCAGCATGTCATAATCCAGAAGTAGGACCTGAGCATAGTCTTGCTGAATATCATAATGAATCTGGCTTGAAACCCATTCTTCGTAAGGGTGGTCGCACTATTGCTTTTGGAGGCTGTGTGTTCTCCTATGTTGGTTGCTACAATAAGTGTGCCTATTGGATTCCACGTGCTAGCGCCAACATAGGTTGCAATCATACAGGTGTTGTTGGAGAAGGTTCTGAAGGTCTTAATGATAACCTTCTTGAAATACTTCAAAAAGAGAAAGTCAACATCAATATTGTTGGTGACTTTAAACTTAATGAAGAGATCGCCATTATTTTGGCATCTTTTTCTGCTTCTACAAGTGCTTTTGTGGAAACTGTGAAAGGTTTGGATTATAAAACATTCAAACAAATTGTTGAATCCTGCGGTAACTTTAAAGTTACAAAGGGGAAGGCAAAGAAAGGTGCTTGGAACATTGGTGAACAAAAATCAATATTGAGTCCTCTTTATGCATTTGCGTCAGAGGCTGCTCGTGTTGTTCGATCAATTTTCTCCCGCACTCTTGAAACTGCTCAAAATTCCGTGCGTGCCTTACAGAAGGCCGCTATAACAATACTAGATGGAATTTCACAGTACTCACTGAGACTCATTGATGCTATGATGTTCACATCTGATTTGGTTACTAACAATCTGGTTGTAATGGCTTACATTACAGGTGGTGTTGTTCAGTTGACTTCACAGTGGCTAACAAATATCTTTGGCACTGTCTATGAGCAACTCAAACCTGTTCTTGATTGGCTCGAAGAGAAATTCAAGGAAGGTGTAGAGTTTCTTAGAGATGGTTGGGAAATTGTTAAATTTATCTCAACTTGTGCTTGTGAAATTGTCGGTGGACAAATTGTCACCTGTGCAAAGGAAATTAAAGAGAGTGTTCAGACATTCTTTAAGCTTGTAAACAAATTTTTGGCTTTATGTGCTGACTCCATCATCATTGGTGGAGCTAAACTTAAAGCCTTGAATTTAGGTGAAACATTTGTCACACACTCAAAGGGATTGTATAGAAAGTGTGTTAAACCCAAAGAAGAAACTGGCTTACTCATGCCTCTGAAAGCTCCAAAAGAAATTATTTTCTTAGAGGGAGAAACACTTCCTACAGAAGTGTTAACAGAGGAAGTTGTCTTGAAAACTGGTGATTTACAACCATTAGAACAACCTACTAGTGAAGCTGTTGAAGCCCCATTGGTTGGTACACCAGTTTGCATTAACGGGCTCATGTTGCTCGAAATTAAAGACACAGAAAAGTACTGTGCCCTTGCACCTAATATGATGGTAACAAACAATACCTTCACACTTAAAGGCGGTGCACCAACAAAAGTTACTTTTGGTGATGACACTGTGATTGAAGTGCAAGGTTATAAGAGTGTGAATATCACTTTTGAACTTGACGAAAGGATTGATAAGGTACTTAACGAGAAGTGCTCTACCTATACAGTTGAACTCGGTACAGAAGTAAATGAGTTTGCTTGTGTTGTAGCAGATGCTGTCATAAAAACTTTACAACCAGTATCTGAATTACTTATACCACTGGGCATTGATTTAGATGAGTGGGGTATGGCTACATACTACTTATTTGATGAGTCTGGTGAATTTAAATTGGCTTCACATATGTACTGTTCTTTTTATCCTCCAGATGAGGATGAGGAAGAAGGTGATTGTGAAGAAGAAGATTTTGAACCACCAACTCAATATGAGTATGGTACTGAAGATGATTACCAAGGTAAATCTTTGGAATTTGGTGCCACTTCTGTCACTCCTCAACCTGAAGAAGAGCTAGAAGAAGATTGGTTAGATGATGATAGTCAACAAACTGTCGTTCAAGAAGATGACAGTGAAGTTAATCAGACAACTATCACTCAATCAATTGCTGAGGTTCAACCTCAGTTAGAGATGGAACCTACACCAGTTGTTCAGACTGAAGTGAATAGCTTTAGTGGTTATTTAAAACTTACTGACAATGTATACATTAAAAATGCAGACATTGTGGAAGAAGCTAAAAAGGTAAAACCAACAATAGTTGTCAACGCAGCCAATGTTTACCTTAAACATGGAGGAGGTGTTGCGGGAGCTTTAAATAAGGCTACTAATAATGCCATGCAAGTTGAATCAGATCATTACATAGCCACCAATGGACCACTTAAAGTGGGTGGTGGCTGTGTTTTGAGTGGACACAATCTTGCTAAAAACTGTCTTCATGTTGTTGGTCCAAATGTTAACAGAGGTGAAGATATTCAACTTCTTAAGAGTGCTTATGAAAATTTTAATCAGCACGATGTTCTACTCGCACCACTATTATCAGCCGGTATTTTTGGTGCTGACCCTGTACATTCTTTAAGAGTTTGTGTAGACACTGTTCGCACAAATGTCTACCTAGCTGTCTTTGATAAAAATCTCTATGACAAACTTGTTTCAAGCTTTTTAGAAATGAAGAGTGAAAAGCAAGTTGAACAAAAGACTGCTGAAATTCCTAAAGAGGAAGTTAAGTCATCTATTACTGAAAGTAAACTTTCAGTTGAGCAGAGACAACAAGTTGATAAGAAAATCAAAGCTTGTGTTGAAGAAGTTACAACAACTCTGGAAGAAACTAAGTTTCTCACAGAAAATTTGTTACTCTATATTGACATTAATGGCAATCTTCATCCAGATTCTGCCACTCTTGTTAATGACATTGACATCACTTTCTTAAAGAAAGATGCTCCCTATATAGTGGGTGATGTTGTTCAAGAGGGTGTTTTAACTGCTGTAGTTATACCTACTAAAAAGGCTGGTGGTACTACTGAAATGCTAACGAAAGCCTTGAGAAAAGTGCCAACAGATAACTATATAACCACTTACCCAGGCCAGGGTTTAAATGGTTATACTGTAGAAGAGGCAAGGACAGTGCTTAAAAAGTGTAAAAGTGCCTTTTACATTCTACCATCTATTATCTCTAATGAGAAGCAAGAAATTCTTGGAACTGTTTCTTGGAATTTGCGAGAAATGCTTGCACATGCAGAGGAAACTCGTAAATTAATGCCTGTCTGTATGGAAACTAAAGCTATAGTTTCAACTATACAGCGTAAATACAAGGGTATTAAAATACAAGAGGGTGTGGTTGATTATGGTGCCAGATTTTACTTTTATACCAGTAAAACAACTGTAGCATCACTTATCAATACACTCAACGATCTAAATGAGACTCTTGTTACAATGCCACTTGGCTATGTAACACATGGTTTAAATTTGGAAGAAGCTGCTCGGTATATGAGATCTCTCAAAGTGCCAGCTACAGTTTCTGTTTCTTCACCTGATGCTGTTACAGCGTATAATGGTTACCTTACTTCTTCTTCTAAAACACCTGAAGAACATTTTATTGAAACCATCTCACTTGCTGGCTCTTACAAAGATTGGTCCTATTCTGGACAGTCTACACAACTAGGTATAGAATTTCTTAAGAGAGGTGATAAAAGTGTGTATTACACTAGTAACCCTATTACATTTCACCTAGATGGTGAAGTTATCACCTTTGACAATCTTAAGATACTTCTCTCTTTGAAAGAAGTTAGGACTATTAAGGTGTTTACAACAGTAGACAACATTAACCTTCACACGCAAGTTGTGG\"\n",
    ";"
   ]
  },
  {
   "cell_type": "code",
   "execution_count": 5,
   "id": "6e8b3e31",
   "metadata": {},
   "outputs": [],
   "source": [
    "# compute forces\n",
    "alphabet = [\"A\", \"C\", \"G\", \"T\"]\n",
    "motifs = [a*b for a in alphabet for b in alphabet]\n",
    "freqs = missing\n",
    "\n",
    "miniSARS2_forces = NoncodingForces_v2_1.DimerForce(string(miniSARS2), motifs; freqs=freqs, add_pseudocount=false)\n",
    "minibat_forces = NoncodingForces_v2_1.DimerForce(string(minibat), motifs; freqs=freqs, add_pseudocount=false)\n",
    ";"
   ]
  },
  {
   "cell_type": "code",
   "execution_count": 6,
   "id": "7a4053e5",
   "metadata": {},
   "outputs": [
    {
     "data": {
      "text/plain": [
       "-6766.949860112776"
      ]
     },
     "execution_count": 6,
     "metadata": {},
     "output_type": "execute_result"
    }
   ],
   "source": [
    "NoncodingForces_v2_1.compute_loglikelihood(string(miniSARS2), miniSARS2_forces)"
   ]
  },
  {
   "cell_type": "code",
   "execution_count": 7,
   "id": "162c1f4c",
   "metadata": {},
   "outputs": [
    {
     "data": {
      "text/plain": [
       "-6750.540016837615"
      ]
     },
     "execution_count": 7,
     "metadata": {},
     "output_type": "execute_result"
    }
   ],
   "source": [
    "NoncodingForces_v2_1.compute_loglikelihood(string(miniSARS2), minibat_forces)"
   ]
  },
  {
   "cell_type": "markdown",
   "id": "6e66f595",
   "metadata": {},
   "source": [
    "The same happens if I focus on less motifs (for instance the CG one):"
   ]
  },
  {
   "cell_type": "code",
   "execution_count": 129,
   "id": "4cc95755",
   "metadata": {},
   "outputs": [],
   "source": [
    "# compute forces\n",
    "alphabet = [\"A\", \"C\", \"G\", \"T\"]\n",
    "motifs = [\"CG\"]\n",
    "freqs = missing\n",
    "\n",
    "miniSARS2_forces = NoncodingForces_v2_1.DimerForce(string(miniSARS2), motifs; freqs=freqs, add_pseudocount=false)\n",
    "minibat_forces = NoncodingForces_v2_1.DimerForce(string(minibat), motifs; freqs=freqs, add_pseudocount=false)\n",
    ";"
   ]
  },
  {
   "cell_type": "code",
   "execution_count": 130,
   "id": "3a4f5dc2",
   "metadata": {},
   "outputs": [
    {
     "data": {
      "text/plain": [
       "Dict{String, Float64} with 5 entries:\n",
       "  \"A\"  => -1.2539\n",
       "  \"T\"  => -1.27848\n",
       "  \"C\"  => -1.59363\n",
       "  \"CG\" => -1.05379\n",
       "  \"G\"  => -1.45688"
      ]
     },
     "execution_count": 130,
     "metadata": {},
     "output_type": "execute_result"
    }
   ],
   "source": [
    "miniSARS2_forces"
   ]
  },
  {
   "cell_type": "code",
   "execution_count": 65,
   "id": "5d52ed15",
   "metadata": {},
   "outputs": [
    {
     "data": {
      "text/plain": [
       "-6735.444242580693"
      ]
     },
     "execution_count": 65,
     "metadata": {},
     "output_type": "execute_result"
    }
   ],
   "source": [
    "NoncodingForces_v2_1.compute_loglikelihood(string(miniSARS2), miniSARS2_forces)"
   ]
  },
  {
   "cell_type": "code",
   "execution_count": 66,
   "id": "6a5c22f6",
   "metadata": {},
   "outputs": [
    {
     "data": {
      "text/plain": [
       "-6731.0903457257145"
      ]
     },
     "execution_count": 66,
     "metadata": {},
     "output_type": "execute_result"
    }
   ],
   "source": [
    "NoncodingForces_v2_1.compute_loglikelihood(string(miniSARS2), minibat_forces)"
   ]
  },
  {
   "cell_type": "code",
   "execution_count": null,
   "id": "44c49912",
   "metadata": {},
   "outputs": [],
   "source": []
  },
  {
   "cell_type": "markdown",
   "id": "27714d19",
   "metadata": {},
   "source": [
    "Notice that the problem seems not appearing when a uniform frequency for nucleotides is provided:"
   ]
  },
  {
   "cell_type": "code",
   "execution_count": 67,
   "id": "4cb1e58c",
   "metadata": {},
   "outputs": [],
   "source": [
    "# compute forces\n",
    "alphabet = [\"A\", \"C\", \"G\", \"T\"]\n",
    "motifs = [a*b for a in alphabet for b in alphabet]\n",
    "freqs = [0.25, 0.25, 0.25, 0.25]\n",
    "\n",
    "miniSARS2_forces = NoncodingForces_v2_1.DimerForce(string(miniSARS2), motifs; freqs=freqs, add_pseudocount=false)\n",
    "minibat_forces = NoncodingForces_v2_1.DimerForce(string(minibat), motifs; freqs=freqs, add_pseudocount=false)\n",
    ";"
   ]
  },
  {
   "cell_type": "markdown",
   "id": "42b723eb",
   "metadata": {},
   "source": [
    "(in this case I cannot call directly compute likelihood - I need to add to the force dictionary the 1-nt fields)"
   ]
  },
  {
   "cell_type": "code",
   "execution_count": 68,
   "id": "1c75ac5d",
   "metadata": {},
   "outputs": [],
   "source": [
    "for nt in alphabet\n",
    "    miniSARS2_forces[nt] = log(1/4)\n",
    "    minibat_forces[nt] = log(1/4)\n",
    "end"
   ]
  },
  {
   "cell_type": "code",
   "execution_count": 69,
   "id": "07ec5839",
   "metadata": {},
   "outputs": [
    {
     "data": {
      "text/plain": [
       "-6689.208817447103"
      ]
     },
     "execution_count": 69,
     "metadata": {},
     "output_type": "execute_result"
    }
   ],
   "source": [
    "NoncodingForces_v2_1.compute_loglikelihood(string(miniSARS2), miniSARS2_forces)"
   ]
  },
  {
   "cell_type": "code",
   "execution_count": 70,
   "id": "3bd81a38",
   "metadata": {},
   "outputs": [
    {
     "data": {
      "text/plain": [
       "-6691.5999263740105"
      ]
     },
     "execution_count": 70,
     "metadata": {},
     "output_type": "execute_result"
    }
   ],
   "source": [
    "NoncodingForces_v2_1.compute_loglikelihood(string(miniSARS2), minibat_forces)"
   ]
  },
  {
   "cell_type": "code",
   "execution_count": null,
   "id": "cd7e5f63",
   "metadata": {},
   "outputs": [],
   "source": []
  },
  {
   "cell_type": "code",
   "execution_count": 71,
   "id": "b2489b4b",
   "metadata": {},
   "outputs": [],
   "source": [
    "# compute forces\n",
    "alphabet = [\"A\", \"C\", \"G\", \"T\"]\n",
    "motifs = [\"CG\"]\n",
    "freqs = [0.25, 0.25, 0.25, 0.25]\n",
    "\n",
    "miniSARS2_forces = NoncodingForces_v2_1.DimerForce(string(miniSARS2), motifs; freqs=freqs, add_pseudocount=false)\n",
    "minibat_forces = NoncodingForces_v2_1.DimerForce(string(minibat), motifs; freqs=freqs, add_pseudocount=false)\n",
    ";"
   ]
  },
  {
   "cell_type": "code",
   "execution_count": 72,
   "id": "08220195",
   "metadata": {},
   "outputs": [],
   "source": [
    "for nt in alphabet\n",
    "    miniSARS2_forces[nt] = log(1/4)\n",
    "    minibat_forces[nt] = log(1/4)\n",
    "end"
   ]
  },
  {
   "cell_type": "code",
   "execution_count": 73,
   "id": "d01ab5d8",
   "metadata": {},
   "outputs": [
    {
     "data": {
      "text/plain": [
       "-6804.862073488643"
      ]
     },
     "execution_count": 73,
     "metadata": {},
     "output_type": "execute_result"
    }
   ],
   "source": [
    "NoncodingForces_v2_1.compute_loglikelihood(string(miniSARS2), miniSARS2_forces)"
   ]
  },
  {
   "cell_type": "code",
   "execution_count": 74,
   "id": "b9adbb42",
   "metadata": {},
   "outputs": [
    {
     "data": {
      "text/plain": [
       "-6805.25668432475"
      ]
     },
     "execution_count": 74,
     "metadata": {},
     "output_type": "execute_result"
    }
   ],
   "source": [
    "NoncodingForces_v2_1.compute_loglikelihood(string(miniSARS2), minibat_forces)"
   ]
  },
  {
   "cell_type": "code",
   "execution_count": null,
   "id": "094f184b",
   "metadata": {},
   "outputs": [],
   "source": []
  },
  {
   "cell_type": "markdown",
   "id": "fb616882",
   "metadata": {},
   "source": [
    "However, if the forces are different (in the case below they are the solution for the fields-only problem for miniSARS2), the problem appears again:"
   ]
  },
  {
   "cell_type": "code",
   "execution_count": 8,
   "id": "a35e161e",
   "metadata": {},
   "outputs": [],
   "source": [
    "# compute forces\n",
    "alphabet = [\"A\", \"C\", \"G\", \"T\"]\n",
    "motifs = [\"CG\"]\n",
    "fa = count(\"A\", miniSARS2) / length(miniSARS2)\n",
    "fc = count(\"C\", miniSARS2) / length(miniSARS2)\n",
    "fg = count(\"G\", miniSARS2) / length(miniSARS2)\n",
    "ft = count(\"T\", miniSARS2) / length(miniSARS2)\n",
    "freqs = [fa, fc, fg, ft]\n",
    "\n",
    "miniSARS2_forces = NoncodingForces_v2_1.DimerForce(string(miniSARS2), motifs; freqs=freqs, add_pseudocount=false)\n",
    "minibat_forces = NoncodingForces_v2_1.DimerForce(string(minibat), motifs; freqs=freqs, add_pseudocount=false)\n",
    ";"
   ]
  },
  {
   "cell_type": "code",
   "execution_count": 9,
   "id": "4d5a030f",
   "metadata": {},
   "outputs": [],
   "source": [
    "for (i, nt) in enumerate(alphabet)\n",
    "    miniSARS2_forces[nt] = log(freqs[i])\n",
    "    minibat_forces[nt] = log(freqs[i])\n",
    "end"
   ]
  },
  {
   "cell_type": "code",
   "execution_count": 10,
   "id": "764724b3",
   "metadata": {},
   "outputs": [
    {
     "data": {
      "text/plain": [
       "Dict{String, Float64} with 5 entries:\n",
       "  \"A\"  => -1.1881\n",
       "  \"T\"  => -1.21268\n",
       "  \"C\"  => -1.69827\n",
       "  \"CG\" => -0.839719\n",
       "  \"G\"  => -1.53805"
      ]
     },
     "execution_count": 10,
     "metadata": {},
     "output_type": "execute_result"
    }
   ],
   "source": [
    "miniSARS2_forces"
   ]
  },
  {
   "cell_type": "code",
   "execution_count": 11,
   "id": "b511a4fd",
   "metadata": {},
   "outputs": [
    {
     "data": {
      "text/plain": [
       "Dict{String, Float64} with 5 entries:\n",
       "  \"A\"  => -1.1881\n",
       "  \"T\"  => -1.21268\n",
       "  \"C\"  => -1.69827\n",
       "  \"CG\" => -0.936891\n",
       "  \"G\"  => -1.53805"
      ]
     },
     "execution_count": 11,
     "metadata": {},
     "output_type": "execute_result"
    }
   ],
   "source": [
    "minibat_forces"
   ]
  },
  {
   "cell_type": "code",
   "execution_count": 12,
   "id": "5dd388bd",
   "metadata": {},
   "outputs": [
    {
     "data": {
      "text/plain": [
       "-0.7700166424112438"
      ]
     },
     "execution_count": 12,
     "metadata": {},
     "output_type": "execute_result"
    }
   ],
   "source": [
    "miniSARS2_forces3 = copy(miniSARS2_forces)\n",
    "miniSARS2_forces3[\"CG\"] = log((count(\"CG\", miniSARS2) / length(miniSARS2)) / (fc * fg))"
   ]
  },
  {
   "cell_type": "code",
   "execution_count": 13,
   "id": "378ca24a",
   "metadata": {},
   "outputs": [
    {
     "data": {
      "text/plain": [
       "-6736.813021486501"
      ]
     },
     "execution_count": 13,
     "metadata": {},
     "output_type": "execute_result"
    }
   ],
   "source": [
    "NoncodingForces_v2_1.compute_loglikelihood(string(miniSARS2), miniSARS2_forces3)"
   ]
  },
  {
   "cell_type": "code",
   "execution_count": 14,
   "id": "16a46e3c",
   "metadata": {},
   "outputs": [
    {
     "data": {
      "text/plain": [
       "-6733.823819920228"
      ]
     },
     "execution_count": 14,
     "metadata": {},
     "output_type": "execute_result"
    }
   ],
   "source": [
    "NoncodingForces_v2_1.compute_loglikelihood(string(miniSARS2), miniSARS2_forces)"
   ]
  },
  {
   "cell_type": "code",
   "execution_count": 15,
   "id": "6e1cd913",
   "metadata": {},
   "outputs": [
    {
     "data": {
      "text/plain": [
       "-6730.616921141923"
      ]
     },
     "execution_count": 15,
     "metadata": {},
     "output_type": "execute_result"
    }
   ],
   "source": [
    "NoncodingForces_v2_1.compute_loglikelihood(string(miniSARS2), minibat_forces)"
   ]
  },
  {
   "cell_type": "code",
   "execution_count": 31,
   "id": "5b36928c",
   "metadata": {},
   "outputs": [],
   "source": [
    "miniSARS2_forces_test = copy(miniSARS2_forces)\n",
    "logliks = []\n",
    "cg_fs = []\n",
    "for x in -1.5:0.05:-0.5\n",
    "    push!(cg_fs, x)\n",
    "    miniSARS2_forces_test[\"CG\"] = x\n",
    "    push!(logliks, NoncodingForces_v2_1.compute_loglikelihood(string(miniSARS2), miniSARS2_forces_test))\n",
    "end "
   ]
  },
  {
   "cell_type": "code",
   "execution_count": 29,
   "id": "9a1d589f",
   "metadata": {},
   "outputs": [],
   "source": [
    "using Plots"
   ]
  },
  {
   "cell_type": "code",
   "execution_count": 32,
   "id": "bf39376c",
   "metadata": {},
   "outputs": [
    {
     "data": {
      "image/svg+xml": [
       "<?xml version=\"1.0\" encoding=\"utf-8\"?>\n",
       "<svg xmlns=\"http://www.w3.org/2000/svg\" xmlns:xlink=\"http://www.w3.org/1999/xlink\" width=\"600\" height=\"400\" viewBox=\"0 0 2400 1600\">\n",
       "<defs>\n",
       "  <clipPath id=\"clip590\">\n",
       "    <rect x=\"0\" y=\"0\" width=\"2400\" height=\"1600\"/>\n",
       "  </clipPath>\n",
       "</defs>\n",
       "<path clip-path=\"url(#clip590)\" d=\"\n",
       "M0 1600 L2400 1600 L2400 0 L0 0  Z\n",
       "  \" fill=\"#ffffff\" fill-rule=\"evenodd\" fill-opacity=\"1\"/>\n",
       "<defs>\n",
       "  <clipPath id=\"clip591\">\n",
       "    <rect x=\"480\" y=\"0\" width=\"1681\" height=\"1600\"/>\n",
       "  </clipPath>\n",
       "</defs>\n",
       "<path clip-path=\"url(#clip590)\" d=\"\n",
       "M239.19 1486.45 L2352.76 1486.45 L2352.76 47.2441 L239.19 47.2441  Z\n",
       "  \" fill=\"#ffffff\" fill-rule=\"evenodd\" fill-opacity=\"1\"/>\n",
       "<defs>\n",
       "  <clipPath id=\"clip592\">\n",
       "    <rect x=\"239\" y=\"47\" width=\"2115\" height=\"1440\"/>\n",
       "  </clipPath>\n",
       "</defs>\n",
       "<polyline clip-path=\"url(#clip592)\" style=\"stroke:#000000; stroke-linecap:butt; stroke-linejoin:round; stroke-width:2; stroke-opacity:0.1; fill:none\" points=\"\n",
       "  498.401,1486.45 498.401,47.2441 \n",
       "  \"/>\n",
       "<polyline clip-path=\"url(#clip592)\" style=\"stroke:#000000; stroke-linecap:butt; stroke-linejoin:round; stroke-width:2; stroke-opacity:0.1; fill:none\" points=\"\n",
       "  897.187,1486.45 897.187,47.2441 \n",
       "  \"/>\n",
       "<polyline clip-path=\"url(#clip592)\" style=\"stroke:#000000; stroke-linecap:butt; stroke-linejoin:round; stroke-width:2; stroke-opacity:0.1; fill:none\" points=\"\n",
       "  1295.97,1486.45 1295.97,47.2441 \n",
       "  \"/>\n",
       "<polyline clip-path=\"url(#clip592)\" style=\"stroke:#000000; stroke-linecap:butt; stroke-linejoin:round; stroke-width:2; stroke-opacity:0.1; fill:none\" points=\"\n",
       "  1694.76,1486.45 1694.76,47.2441 \n",
       "  \"/>\n",
       "<polyline clip-path=\"url(#clip592)\" style=\"stroke:#000000; stroke-linecap:butt; stroke-linejoin:round; stroke-width:2; stroke-opacity:0.1; fill:none\" points=\"\n",
       "  2093.55,1486.45 2093.55,47.2441 \n",
       "  \"/>\n",
       "<polyline clip-path=\"url(#clip590)\" style=\"stroke:#000000; stroke-linecap:butt; stroke-linejoin:round; stroke-width:4; stroke-opacity:1; fill:none\" points=\"\n",
       "  239.19,1486.45 2352.76,1486.45 \n",
       "  \"/>\n",
       "<polyline clip-path=\"url(#clip590)\" style=\"stroke:#000000; stroke-linecap:butt; stroke-linejoin:round; stroke-width:4; stroke-opacity:1; fill:none\" points=\"\n",
       "  498.401,1486.45 498.401,1469.18 \n",
       "  \"/>\n",
       "<polyline clip-path=\"url(#clip590)\" style=\"stroke:#000000; stroke-linecap:butt; stroke-linejoin:round; stroke-width:4; stroke-opacity:1; fill:none\" points=\"\n",
       "  897.187,1486.45 897.187,1469.18 \n",
       "  \"/>\n",
       "<polyline clip-path=\"url(#clip590)\" style=\"stroke:#000000; stroke-linecap:butt; stroke-linejoin:round; stroke-width:4; stroke-opacity:1; fill:none\" points=\"\n",
       "  1295.97,1486.45 1295.97,1469.18 \n",
       "  \"/>\n",
       "<polyline clip-path=\"url(#clip590)\" style=\"stroke:#000000; stroke-linecap:butt; stroke-linejoin:round; stroke-width:4; stroke-opacity:1; fill:none\" points=\"\n",
       "  1694.76,1486.45 1694.76,1469.18 \n",
       "  \"/>\n",
       "<polyline clip-path=\"url(#clip590)\" style=\"stroke:#000000; stroke-linecap:butt; stroke-linejoin:round; stroke-width:4; stroke-opacity:1; fill:none\" points=\"\n",
       "  2093.55,1486.45 2093.55,1469.18 \n",
       "  \"/>\n",
       "<path clip-path=\"url(#clip590)\" d=\"M444.686 1530.29 L474.362 1530.29 L474.362 1534.23 L444.686 1534.23 L444.686 1530.29 Z\" fill=\"#000000\" fill-rule=\"evenodd\" fill-opacity=\"1\" /><path clip-path=\"url(#clip590)\" d=\"M485.265 1543.18 L492.904 1543.18 L492.904 1516.82 L484.593 1518.49 L484.593 1514.23 L492.857 1512.56 L497.533 1512.56 L497.533 1543.18 L505.172 1543.18 L505.172 1547.12 L485.265 1547.12 L485.265 1543.18 Z\" fill=\"#000000\" fill-rule=\"evenodd\" fill-opacity=\"1\" /><path clip-path=\"url(#clip590)\" d=\"M514.616 1541.24 L519.501 1541.24 L519.501 1547.12 L514.616 1547.12 L514.616 1541.24 Z\" fill=\"#000000\" fill-rule=\"evenodd\" fill-opacity=\"1\" /><path clip-path=\"url(#clip590)\" d=\"M542.533 1516.63 L530.727 1535.08 L542.533 1535.08 L542.533 1516.63 M541.306 1512.56 L547.186 1512.56 L547.186 1535.08 L552.116 1535.08 L552.116 1538.97 L547.186 1538.97 L547.186 1547.12 L542.533 1547.12 L542.533 1538.97 L526.931 1538.97 L526.931 1534.46 L541.306 1512.56 Z\" fill=\"#000000\" fill-rule=\"evenodd\" fill-opacity=\"1\" /><path clip-path=\"url(#clip590)\" d=\"M844.514 1530.29 L874.19 1530.29 L874.19 1534.23 L844.514 1534.23 L844.514 1530.29 Z\" fill=\"#000000\" fill-rule=\"evenodd\" fill-opacity=\"1\" /><path clip-path=\"url(#clip590)\" d=\"M885.092 1543.18 L892.731 1543.18 L892.731 1516.82 L884.421 1518.49 L884.421 1514.23 L892.685 1512.56 L897.361 1512.56 L897.361 1543.18 L905 1543.18 L905 1547.12 L885.092 1547.12 L885.092 1543.18 Z\" fill=\"#000000\" fill-rule=\"evenodd\" fill-opacity=\"1\" /><path clip-path=\"url(#clip590)\" d=\"M914.444 1541.24 L919.328 1541.24 L919.328 1547.12 L914.444 1547.12 L914.444 1541.24 Z\" fill=\"#000000\" fill-rule=\"evenodd\" fill-opacity=\"1\" /><path clip-path=\"url(#clip590)\" d=\"M933.541 1543.18 L949.861 1543.18 L949.861 1547.12 L927.916 1547.12 L927.916 1543.18 Q930.578 1540.43 935.162 1535.8 Q939.768 1531.15 940.949 1529.81 Q943.194 1527.28 944.074 1525.55 Q944.976 1523.79 944.976 1522.1 Q944.976 1519.34 943.032 1517.61 Q941.111 1515.87 938.009 1515.87 Q935.81 1515.87 933.356 1516.63 Q930.925 1517.4 928.148 1518.95 L928.148 1514.23 Q930.972 1513.09 933.425 1512.51 Q935.879 1511.93 937.916 1511.93 Q943.286 1511.93 946.481 1514.62 Q949.675 1517.31 949.675 1521.8 Q949.675 1523.93 948.865 1525.85 Q948.078 1527.74 945.972 1530.34 Q945.393 1531.01 942.291 1534.23 Q939.189 1537.42 933.541 1543.18 Z\" fill=\"#000000\" fill-rule=\"evenodd\" fill-opacity=\"1\" /><path clip-path=\"url(#clip590)\" d=\"M1242.5 1530.29 L1272.18 1530.29 L1272.18 1534.23 L1242.5 1534.23 L1242.5 1530.29 Z\" fill=\"#000000\" fill-rule=\"evenodd\" fill-opacity=\"1\" /><path clip-path=\"url(#clip590)\" d=\"M1283.08 1543.18 L1290.72 1543.18 L1290.72 1516.82 L1282.41 1518.49 L1282.41 1514.23 L1290.67 1512.56 L1295.35 1512.56 L1295.35 1543.18 L1302.99 1543.18 L1302.99 1547.12 L1283.08 1547.12 L1283.08 1543.18 Z\" fill=\"#000000\" fill-rule=\"evenodd\" fill-opacity=\"1\" /><path clip-path=\"url(#clip590)\" d=\"M1312.43 1541.24 L1317.32 1541.24 L1317.32 1547.12 L1312.43 1547.12 L1312.43 1541.24 Z\" fill=\"#000000\" fill-rule=\"evenodd\" fill-opacity=\"1\" /><path clip-path=\"url(#clip590)\" d=\"M1337.5 1515.64 Q1333.89 1515.64 1332.06 1519.2 Q1330.26 1522.75 1330.26 1529.87 Q1330.26 1536.98 1332.06 1540.55 Q1333.89 1544.09 1337.5 1544.09 Q1341.13 1544.09 1342.94 1540.55 Q1344.77 1536.98 1344.77 1529.87 Q1344.77 1522.75 1342.94 1519.2 Q1341.13 1515.64 1337.5 1515.64 M1337.5 1511.93 Q1343.31 1511.93 1346.37 1516.54 Q1349.45 1521.12 1349.45 1529.87 Q1349.45 1538.6 1346.37 1543.21 Q1343.31 1547.79 1337.5 1547.79 Q1331.69 1547.79 1328.61 1543.21 Q1325.56 1538.6 1325.56 1529.87 Q1325.56 1521.12 1328.61 1516.54 Q1331.69 1511.93 1337.5 1511.93 Z\" fill=\"#000000\" fill-rule=\"evenodd\" fill-opacity=\"1\" /><path clip-path=\"url(#clip590)\" d=\"M1641.33 1530.29 L1671.01 1530.29 L1671.01 1534.23 L1641.33 1534.23 L1641.33 1530.29 Z\" fill=\"#000000\" fill-rule=\"evenodd\" fill-opacity=\"1\" /><path clip-path=\"url(#clip590)\" d=\"M1691.1 1515.64 Q1687.49 1515.64 1685.66 1519.2 Q1683.86 1522.75 1683.86 1529.87 Q1683.86 1536.98 1685.66 1540.55 Q1687.49 1544.09 1691.1 1544.09 Q1694.74 1544.09 1696.54 1540.55 Q1698.37 1536.98 1698.37 1529.87 Q1698.37 1522.75 1696.54 1519.2 Q1694.74 1515.64 1691.1 1515.64 M1691.1 1511.93 Q1696.91 1511.93 1699.97 1516.54 Q1703.05 1521.12 1703.05 1529.87 Q1703.05 1538.6 1699.97 1543.21 Q1696.91 1547.79 1691.1 1547.79 Q1685.29 1547.79 1682.21 1543.21 Q1679.16 1538.6 1679.16 1529.87 Q1679.16 1521.12 1682.21 1516.54 Q1685.29 1511.93 1691.1 1511.93 Z\" fill=\"#000000\" fill-rule=\"evenodd\" fill-opacity=\"1\" /><path clip-path=\"url(#clip590)\" d=\"M1711.26 1541.24 L1716.15 1541.24 L1716.15 1547.12 L1711.26 1547.12 L1711.26 1541.24 Z\" fill=\"#000000\" fill-rule=\"evenodd\" fill-opacity=\"1\" /><path clip-path=\"url(#clip590)\" d=\"M1736.33 1530.71 Q1733 1530.71 1731.08 1532.49 Q1729.18 1534.27 1729.18 1537.4 Q1729.18 1540.52 1731.08 1542.31 Q1733 1544.09 1736.33 1544.09 Q1739.67 1544.09 1741.59 1542.31 Q1743.51 1540.5 1743.51 1537.4 Q1743.51 1534.27 1741.59 1532.49 Q1739.69 1530.71 1736.33 1530.71 M1731.66 1528.72 Q1728.65 1527.98 1726.96 1525.92 Q1725.29 1523.86 1725.29 1520.89 Q1725.29 1516.75 1728.23 1514.34 Q1731.19 1511.93 1736.33 1511.93 Q1741.49 1511.93 1744.43 1514.34 Q1747.37 1516.75 1747.37 1520.89 Q1747.37 1523.86 1745.68 1525.92 Q1744.02 1527.98 1741.03 1528.72 Q1744.41 1529.5 1746.29 1531.8 Q1748.18 1534.09 1748.18 1537.4 Q1748.18 1542.42 1745.11 1545.11 Q1742.05 1547.79 1736.33 1547.79 Q1730.62 1547.79 1727.54 1545.11 Q1724.48 1542.42 1724.48 1537.4 Q1724.48 1534.09 1726.38 1531.8 Q1728.28 1529.5 1731.66 1528.72 M1729.94 1521.33 Q1729.94 1524.02 1731.61 1525.52 Q1733.3 1527.03 1736.33 1527.03 Q1739.34 1527.03 1741.03 1525.52 Q1742.74 1524.02 1742.74 1521.33 Q1742.74 1518.65 1741.03 1517.14 Q1739.34 1515.64 1736.33 1515.64 Q1733.3 1515.64 1731.61 1517.14 Q1729.94 1518.65 1729.94 1521.33 Z\" fill=\"#000000\" fill-rule=\"evenodd\" fill-opacity=\"1\" /><path clip-path=\"url(#clip590)\" d=\"M2039.99 1530.29 L2069.67 1530.29 L2069.67 1534.23 L2039.99 1534.23 L2039.99 1530.29 Z\" fill=\"#000000\" fill-rule=\"evenodd\" fill-opacity=\"1\" /><path clip-path=\"url(#clip590)\" d=\"M2089.76 1515.64 Q2086.15 1515.64 2084.32 1519.2 Q2082.52 1522.75 2082.52 1529.87 Q2082.52 1536.98 2084.32 1540.55 Q2086.15 1544.09 2089.76 1544.09 Q2093.39 1544.09 2095.2 1540.55 Q2097.03 1536.98 2097.03 1529.87 Q2097.03 1522.75 2095.2 1519.2 Q2093.39 1515.64 2089.76 1515.64 M2089.76 1511.93 Q2095.57 1511.93 2098.63 1516.54 Q2101.7 1521.12 2101.7 1529.87 Q2101.7 1538.6 2098.63 1543.21 Q2095.57 1547.79 2089.76 1547.79 Q2083.95 1547.79 2080.87 1543.21 Q2077.82 1538.6 2077.82 1529.87 Q2077.82 1521.12 2080.87 1516.54 Q2083.95 1511.93 2089.76 1511.93 Z\" fill=\"#000000\" fill-rule=\"evenodd\" fill-opacity=\"1\" /><path clip-path=\"url(#clip590)\" d=\"M2109.92 1541.24 L2114.81 1541.24 L2114.81 1547.12 L2109.92 1547.12 L2109.92 1541.24 Z\" fill=\"#000000\" fill-rule=\"evenodd\" fill-opacity=\"1\" /><path clip-path=\"url(#clip590)\" d=\"M2135.57 1527.98 Q2132.42 1527.98 2130.57 1530.13 Q2128.74 1532.28 2128.74 1536.03 Q2128.74 1539.76 2130.57 1541.93 Q2132.42 1544.09 2135.57 1544.09 Q2138.72 1544.09 2140.55 1541.93 Q2142.4 1539.76 2142.4 1536.03 Q2142.4 1532.28 2140.55 1530.13 Q2138.72 1527.98 2135.57 1527.98 M2144.85 1513.32 L2144.85 1517.58 Q2143.09 1516.75 2141.29 1516.31 Q2139.51 1515.87 2137.75 1515.87 Q2133.12 1515.87 2130.66 1519 Q2128.23 1522.12 2127.89 1528.44 Q2129.25 1526.43 2131.31 1525.36 Q2133.37 1524.27 2135.85 1524.27 Q2141.06 1524.27 2144.07 1527.44 Q2147.1 1530.59 2147.1 1536.03 Q2147.1 1541.36 2143.95 1544.57 Q2140.8 1547.79 2135.57 1547.79 Q2129.57 1547.79 2126.4 1543.21 Q2123.23 1538.6 2123.23 1529.87 Q2123.23 1521.68 2127.12 1516.82 Q2131.01 1511.93 2137.56 1511.93 Q2139.32 1511.93 2141.1 1512.28 Q2142.91 1512.63 2144.85 1513.32 Z\" fill=\"#000000\" fill-rule=\"evenodd\" fill-opacity=\"1\" /><polyline clip-path=\"url(#clip592)\" style=\"stroke:#000000; stroke-linecap:butt; stroke-linejoin:round; stroke-width:2; stroke-opacity:0.1; fill:none\" points=\"\n",
       "  239.19,1468.67 2352.76,1468.67 \n",
       "  \"/>\n",
       "<polyline clip-path=\"url(#clip592)\" style=\"stroke:#000000; stroke-linecap:butt; stroke-linejoin:round; stroke-width:2; stroke-opacity:0.1; fill:none\" points=\"\n",
       "  239.19,1222.92 2352.76,1222.92 \n",
       "  \"/>\n",
       "<polyline clip-path=\"url(#clip592)\" style=\"stroke:#000000; stroke-linecap:butt; stroke-linejoin:round; stroke-width:2; stroke-opacity:0.1; fill:none\" points=\"\n",
       "  239.19,977.167 2352.76,977.167 \n",
       "  \"/>\n",
       "<polyline clip-path=\"url(#clip592)\" style=\"stroke:#000000; stroke-linecap:butt; stroke-linejoin:round; stroke-width:2; stroke-opacity:0.1; fill:none\" points=\"\n",
       "  239.19,731.415 2352.76,731.415 \n",
       "  \"/>\n",
       "<polyline clip-path=\"url(#clip592)\" style=\"stroke:#000000; stroke-linecap:butt; stroke-linejoin:round; stroke-width:2; stroke-opacity:0.1; fill:none\" points=\"\n",
       "  239.19,485.663 2352.76,485.663 \n",
       "  \"/>\n",
       "<polyline clip-path=\"url(#clip592)\" style=\"stroke:#000000; stroke-linecap:butt; stroke-linejoin:round; stroke-width:2; stroke-opacity:0.1; fill:none\" points=\"\n",
       "  239.19,239.911 2352.76,239.911 \n",
       "  \"/>\n",
       "<polyline clip-path=\"url(#clip590)\" style=\"stroke:#000000; stroke-linecap:butt; stroke-linejoin:round; stroke-width:4; stroke-opacity:1; fill:none\" points=\"\n",
       "  239.19,1486.45 239.19,47.2441 \n",
       "  \"/>\n",
       "<polyline clip-path=\"url(#clip590)\" style=\"stroke:#000000; stroke-linecap:butt; stroke-linejoin:round; stroke-width:4; stroke-opacity:1; fill:none\" points=\"\n",
       "  239.19,1468.67 264.553,1468.67 \n",
       "  \"/>\n",
       "<polyline clip-path=\"url(#clip590)\" style=\"stroke:#000000; stroke-linecap:butt; stroke-linejoin:round; stroke-width:4; stroke-opacity:1; fill:none\" points=\"\n",
       "  239.19,1222.92 264.553,1222.92 \n",
       "  \"/>\n",
       "<polyline clip-path=\"url(#clip590)\" style=\"stroke:#000000; stroke-linecap:butt; stroke-linejoin:round; stroke-width:4; stroke-opacity:1; fill:none\" points=\"\n",
       "  239.19,977.167 264.553,977.167 \n",
       "  \"/>\n",
       "<polyline clip-path=\"url(#clip590)\" style=\"stroke:#000000; stroke-linecap:butt; stroke-linejoin:round; stroke-width:4; stroke-opacity:1; fill:none\" points=\"\n",
       "  239.19,731.415 264.553,731.415 \n",
       "  \"/>\n",
       "<polyline clip-path=\"url(#clip590)\" style=\"stroke:#000000; stroke-linecap:butt; stroke-linejoin:round; stroke-width:4; stroke-opacity:1; fill:none\" points=\"\n",
       "  239.19,485.663 264.553,485.663 \n",
       "  \"/>\n",
       "<polyline clip-path=\"url(#clip590)\" style=\"stroke:#000000; stroke-linecap:butt; stroke-linejoin:round; stroke-width:4; stroke-opacity:1; fill:none\" points=\"\n",
       "  239.19,239.911 264.553,239.911 \n",
       "  \"/>\n",
       "<path clip-path=\"url(#clip590)\" d=\"M51.9875 1469.12 L81.6633 1469.12 L81.6633 1473.06 L51.9875 1473.06 L51.9875 1469.12 Z\" fill=\"#000000\" fill-rule=\"evenodd\" fill-opacity=\"1\" /><path clip-path=\"url(#clip590)\" d=\"M102.334 1466.81 Q99.1863 1466.81 97.3345 1468.96 Q95.5058 1471.11 95.5058 1474.86 Q95.5058 1478.59 97.3345 1480.77 Q99.1863 1482.92 102.334 1482.92 Q105.483 1482.92 107.311 1480.77 Q109.163 1478.59 109.163 1474.86 Q109.163 1471.11 107.311 1468.96 Q105.483 1466.81 102.334 1466.81 M111.617 1452.15 L111.617 1456.41 Q109.858 1455.58 108.052 1455.14 Q106.27 1454.7 104.51 1454.7 Q99.8808 1454.7 97.4271 1457.83 Q94.9965 1460.95 94.6493 1467.27 Q96.015 1465.26 98.0752 1464.19 Q100.135 1463.1 102.612 1463.1 Q107.821 1463.1 110.83 1466.27 Q113.862 1469.42 113.862 1474.86 Q113.862 1480.19 110.714 1483.4 Q107.566 1486.62 102.334 1486.62 Q96.3391 1486.62 93.1678 1482.04 Q89.9965 1477.43 89.9965 1468.71 Q89.9965 1460.51 93.8854 1455.65 Q97.7743 1450.77 104.325 1450.77 Q106.084 1450.77 107.867 1451.11 Q109.672 1451.46 111.617 1452.15 Z\" fill=\"#000000\" fill-rule=\"evenodd\" fill-opacity=\"1\" /><path clip-path=\"url(#clip590)\" d=\"M120.737 1451.39 L142.959 1451.39 L142.959 1453.38 L130.413 1485.95 L125.529 1485.95 L137.334 1455.33 L120.737 1455.33 L120.737 1451.39 Z\" fill=\"#000000\" fill-rule=\"evenodd\" fill-opacity=\"1\" /><path clip-path=\"url(#clip590)\" d=\"M152.126 1451.39 L170.482 1451.39 L170.482 1455.33 L156.408 1455.33 L156.408 1463.8 Q157.427 1463.45 158.445 1463.29 Q159.464 1463.1 160.482 1463.1 Q166.269 1463.1 169.649 1466.27 Q173.029 1469.45 173.029 1474.86 Q173.029 1480.44 169.556 1483.54 Q166.084 1486.62 159.765 1486.62 Q157.589 1486.62 155.32 1486.25 Q153.075 1485.88 150.668 1485.14 L150.668 1480.44 Q152.751 1481.58 154.973 1482.13 Q157.195 1482.69 159.672 1482.69 Q163.677 1482.69 166.015 1480.58 Q168.353 1478.47 168.353 1474.86 Q168.353 1471.25 166.015 1469.15 Q163.677 1467.04 159.672 1467.04 Q157.797 1467.04 155.922 1467.46 Q154.07 1467.87 152.126 1468.75 L152.126 1451.39 Z\" fill=\"#000000\" fill-rule=\"evenodd\" fill-opacity=\"1\" /><path clip-path=\"url(#clip590)\" d=\"M182.288 1451.39 L200.644 1451.39 L200.644 1455.33 L186.57 1455.33 L186.57 1463.8 Q187.589 1463.45 188.607 1463.29 Q189.626 1463.1 190.644 1463.1 Q196.431 1463.1 199.811 1466.27 Q203.19 1469.45 203.19 1474.86 Q203.19 1480.44 199.718 1483.54 Q196.246 1486.62 189.927 1486.62 Q187.751 1486.62 185.482 1486.25 Q183.237 1485.88 180.829 1485.14 L180.829 1480.44 Q182.913 1481.58 185.135 1482.13 Q187.357 1482.69 189.834 1482.69 Q193.839 1482.69 196.177 1480.58 Q198.514 1478.47 198.514 1474.86 Q198.514 1471.25 196.177 1469.15 Q193.839 1467.04 189.834 1467.04 Q187.959 1467.04 186.084 1467.46 Q184.232 1467.87 182.288 1468.75 L182.288 1451.39 Z\" fill=\"#000000\" fill-rule=\"evenodd\" fill-opacity=\"1\" /><path clip-path=\"url(#clip590)\" d=\"M50.9921 1223.37 L80.6679 1223.37 L80.6679 1227.31 L50.9921 1227.31 L50.9921 1223.37 Z\" fill=\"#000000\" fill-rule=\"evenodd\" fill-opacity=\"1\" /><path clip-path=\"url(#clip590)\" d=\"M101.339 1221.06 Q98.1909 1221.06 96.3391 1223.21 Q94.5104 1225.36 94.5104 1229.11 Q94.5104 1232.84 96.3391 1235.01 Q98.1909 1237.17 101.339 1237.17 Q104.487 1237.17 106.316 1235.01 Q108.168 1232.84 108.168 1229.11 Q108.168 1225.36 106.316 1223.21 Q104.487 1221.06 101.339 1221.06 M110.621 1206.4 L110.621 1210.66 Q108.862 1209.83 107.057 1209.39 Q105.274 1208.95 103.515 1208.95 Q98.8854 1208.95 96.4317 1212.07 Q94.0012 1215.2 93.6539 1221.52 Q95.0197 1219.5 97.0798 1218.44 Q99.14 1217.35 101.617 1217.35 Q106.825 1217.35 109.834 1220.52 Q112.867 1223.67 112.867 1229.11 Q112.867 1234.43 109.719 1237.65 Q106.571 1240.87 101.339 1240.87 Q95.3437 1240.87 92.1725 1236.29 Q89.0012 1231.68 89.0012 1222.95 Q89.0012 1214.76 92.89 1209.9 Q96.7789 1205.01 103.33 1205.01 Q105.089 1205.01 106.871 1205.36 Q108.677 1205.71 110.621 1206.4 Z\" fill=\"#000000\" fill-rule=\"evenodd\" fill-opacity=\"1\" /><path clip-path=\"url(#clip590)\" d=\"M119.742 1205.64 L141.964 1205.64 L141.964 1207.63 L129.418 1240.2 L124.533 1240.2 L136.339 1209.57 L119.742 1209.57 L119.742 1205.64 Z\" fill=\"#000000\" fill-rule=\"evenodd\" fill-opacity=\"1\" /><path clip-path=\"url(#clip590)\" d=\"M151.13 1205.64 L169.487 1205.64 L169.487 1209.57 L155.413 1209.57 L155.413 1218.05 Q156.431 1217.7 157.45 1217.54 Q158.468 1217.35 159.487 1217.35 Q165.274 1217.35 168.654 1220.52 Q172.033 1223.69 172.033 1229.11 Q172.033 1234.69 168.561 1237.79 Q165.089 1240.87 158.769 1240.87 Q156.593 1240.87 154.325 1240.5 Q152.08 1240.13 149.672 1239.39 L149.672 1234.69 Q151.755 1235.82 153.978 1236.38 Q156.2 1236.93 158.677 1236.93 Q162.681 1236.93 165.019 1234.83 Q167.357 1232.72 167.357 1229.11 Q167.357 1225.5 165.019 1223.39 Q162.681 1221.29 158.677 1221.29 Q156.802 1221.29 154.927 1221.7 Q153.075 1222.12 151.13 1223 L151.13 1205.64 Z\" fill=\"#000000\" fill-rule=\"evenodd\" fill-opacity=\"1\" /><path clip-path=\"url(#clip590)\" d=\"M191.246 1208.72 Q187.635 1208.72 185.806 1212.28 Q184.001 1215.82 184.001 1222.95 Q184.001 1230.06 185.806 1233.62 Q187.635 1237.17 191.246 1237.17 Q194.88 1237.17 196.686 1233.62 Q198.514 1230.06 198.514 1222.95 Q198.514 1215.82 196.686 1212.28 Q194.88 1208.72 191.246 1208.72 M191.246 1205.01 Q197.056 1205.01 200.112 1209.62 Q203.19 1214.2 203.19 1222.95 Q203.19 1231.68 200.112 1236.29 Q197.056 1240.87 191.246 1240.87 Q185.436 1240.87 182.357 1236.29 Q179.302 1231.68 179.302 1222.95 Q179.302 1214.2 182.357 1209.62 Q185.436 1205.01 191.246 1205.01 Z\" fill=\"#000000\" fill-rule=\"evenodd\" fill-opacity=\"1\" /><path clip-path=\"url(#clip590)\" d=\"M51.9875 977.618 L81.6633 977.618 L81.6633 981.553 L51.9875 981.553 L51.9875 977.618 Z\" fill=\"#000000\" fill-rule=\"evenodd\" fill-opacity=\"1\" /><path clip-path=\"url(#clip590)\" d=\"M102.334 975.303 Q99.1863 975.303 97.3345 977.456 Q95.5058 979.609 95.5058 983.359 Q95.5058 987.086 97.3345 989.262 Q99.1863 991.414 102.334 991.414 Q105.483 991.414 107.311 989.262 Q109.163 987.086 109.163 983.359 Q109.163 979.609 107.311 977.456 Q105.483 975.303 102.334 975.303 M111.617 960.651 L111.617 964.91 Q109.858 964.077 108.052 963.637 Q106.27 963.197 104.51 963.197 Q99.8808 963.197 97.4271 966.322 Q94.9965 969.447 94.6493 975.766 Q96.015 973.752 98.0752 972.688 Q100.135 971.6 102.612 971.6 Q107.821 971.6 110.83 974.771 Q113.862 977.919 113.862 983.359 Q113.862 988.683 110.714 991.901 Q107.566 995.118 102.334 995.118 Q96.3391 995.118 93.1678 990.535 Q89.9965 985.928 89.9965 977.202 Q89.9965 969.007 93.8854 964.146 Q97.7743 959.262 104.325 959.262 Q106.084 959.262 107.867 959.609 Q109.672 959.956 111.617 960.651 Z\" fill=\"#000000\" fill-rule=\"evenodd\" fill-opacity=\"1\" /><path clip-path=\"url(#clip590)\" d=\"M120.737 959.887 L142.959 959.887 L142.959 961.878 L130.413 994.447 L125.529 994.447 L137.334 963.822 L120.737 963.822 L120.737 959.887 Z\" fill=\"#000000\" fill-rule=\"evenodd\" fill-opacity=\"1\" /><path clip-path=\"url(#clip590)\" d=\"M164.927 963.961 L153.121 982.41 L164.927 982.41 L164.927 963.961 M163.7 959.887 L169.579 959.887 L169.579 982.41 L174.51 982.41 L174.51 986.299 L169.579 986.299 L169.579 994.447 L164.927 994.447 L164.927 986.299 L149.325 986.299 L149.325 981.785 L163.7 959.887 Z\" fill=\"#000000\" fill-rule=\"evenodd\" fill-opacity=\"1\" /><path clip-path=\"url(#clip590)\" d=\"M182.288 959.887 L200.644 959.887 L200.644 963.822 L186.57 963.822 L186.57 972.294 Q187.589 971.947 188.607 971.785 Q189.626 971.6 190.644 971.6 Q196.431 971.6 199.811 974.771 Q203.19 977.942 203.19 983.359 Q203.19 988.938 199.718 992.039 Q196.246 995.118 189.927 995.118 Q187.751 995.118 185.482 994.748 Q183.237 994.377 180.829 993.637 L180.829 988.938 Q182.913 990.072 185.135 990.627 Q187.357 991.183 189.834 991.183 Q193.839 991.183 196.177 989.076 Q198.514 986.97 198.514 983.359 Q198.514 979.748 196.177 977.641 Q193.839 975.535 189.834 975.535 Q187.959 975.535 186.084 975.952 Q184.232 976.368 182.288 977.248 L182.288 959.887 Z\" fill=\"#000000\" fill-rule=\"evenodd\" fill-opacity=\"1\" /><path clip-path=\"url(#clip590)\" d=\"M50.9921 731.866 L80.6679 731.866 L80.6679 735.801 L50.9921 735.801 L50.9921 731.866 Z\" fill=\"#000000\" fill-rule=\"evenodd\" fill-opacity=\"1\" /><path clip-path=\"url(#clip590)\" d=\"M101.339 729.551 Q98.1909 729.551 96.3391 731.704 Q94.5104 733.857 94.5104 737.607 Q94.5104 741.334 96.3391 743.51 Q98.1909 745.662 101.339 745.662 Q104.487 745.662 106.316 743.51 Q108.168 741.334 108.168 737.607 Q108.168 733.857 106.316 731.704 Q104.487 729.551 101.339 729.551 M110.621 714.899 L110.621 719.158 Q108.862 718.325 107.057 717.885 Q105.274 717.445 103.515 717.445 Q98.8854 717.445 96.4317 720.57 Q94.0012 723.695 93.6539 730.014 Q95.0197 728.001 97.0798 726.936 Q99.14 725.848 101.617 725.848 Q106.825 725.848 109.834 729.019 Q112.867 732.167 112.867 737.607 Q112.867 742.931 109.719 746.149 Q106.571 749.366 101.339 749.366 Q95.3437 749.366 92.1725 744.783 Q89.0012 740.176 89.0012 731.45 Q89.0012 723.255 92.89 718.394 Q96.7789 713.51 103.33 713.51 Q105.089 713.51 106.871 713.857 Q108.677 714.204 110.621 714.899 Z\" fill=\"#000000\" fill-rule=\"evenodd\" fill-opacity=\"1\" /><path clip-path=\"url(#clip590)\" d=\"M119.742 714.135 L141.964 714.135 L141.964 716.126 L129.418 748.695 L124.533 748.695 L136.339 718.07 L119.742 718.07 L119.742 714.135 Z\" fill=\"#000000\" fill-rule=\"evenodd\" fill-opacity=\"1\" /><path clip-path=\"url(#clip590)\" d=\"M163.931 718.209 L152.126 736.658 L163.931 736.658 L163.931 718.209 M162.704 714.135 L168.584 714.135 L168.584 736.658 L173.515 736.658 L173.515 740.547 L168.584 740.547 L168.584 748.695 L163.931 748.695 L163.931 740.547 L148.33 740.547 L148.33 736.033 L162.704 714.135 Z\" fill=\"#000000\" fill-rule=\"evenodd\" fill-opacity=\"1\" /><path clip-path=\"url(#clip590)\" d=\"M191.246 717.214 Q187.635 717.214 185.806 720.778 Q184.001 724.32 184.001 731.45 Q184.001 738.556 185.806 742.121 Q187.635 745.662 191.246 745.662 Q194.88 745.662 196.686 742.121 Q198.514 738.556 198.514 731.45 Q198.514 724.32 196.686 720.778 Q194.88 717.214 191.246 717.214 M191.246 713.51 Q197.056 713.51 200.112 718.116 Q203.19 722.7 203.19 731.45 Q203.19 740.176 200.112 744.783 Q197.056 749.366 191.246 749.366 Q185.436 749.366 182.357 744.783 Q179.302 740.176 179.302 731.45 Q179.302 722.7 182.357 718.116 Q185.436 713.51 191.246 713.51 Z\" fill=\"#000000\" fill-rule=\"evenodd\" fill-opacity=\"1\" /><path clip-path=\"url(#clip590)\" d=\"M51.9875 486.114 L81.6633 486.114 L81.6633 490.049 L51.9875 490.049 L51.9875 486.114 Z\" fill=\"#000000\" fill-rule=\"evenodd\" fill-opacity=\"1\" /><path clip-path=\"url(#clip590)\" d=\"M102.334 483.799 Q99.1863 483.799 97.3345 485.952 Q95.5058 488.105 95.5058 491.855 Q95.5058 495.582 97.3345 497.758 Q99.1863 499.911 102.334 499.911 Q105.483 499.911 107.311 497.758 Q109.163 495.582 109.163 491.855 Q109.163 488.105 107.311 485.952 Q105.483 483.799 102.334 483.799 M111.617 469.147 L111.617 473.406 Q109.858 472.573 108.052 472.133 Q106.27 471.693 104.51 471.693 Q99.8808 471.693 97.4271 474.818 Q94.9965 477.943 94.6493 484.262 Q96.015 482.249 98.0752 481.184 Q100.135 480.096 102.612 480.096 Q107.821 480.096 110.83 483.267 Q113.862 486.415 113.862 491.855 Q113.862 497.179 110.714 500.397 Q107.566 503.614 102.334 503.614 Q96.3391 503.614 93.1678 499.031 Q89.9965 494.424 89.9965 485.698 Q89.9965 477.503 93.8854 472.642 Q97.7743 467.758 104.325 467.758 Q106.084 467.758 107.867 468.105 Q109.672 468.452 111.617 469.147 Z\" fill=\"#000000\" fill-rule=\"evenodd\" fill-opacity=\"1\" /><path clip-path=\"url(#clip590)\" d=\"M120.737 468.383 L142.959 468.383 L142.959 470.374 L130.413 502.943 L125.529 502.943 L137.334 472.318 L120.737 472.318 L120.737 468.383 Z\" fill=\"#000000\" fill-rule=\"evenodd\" fill-opacity=\"1\" /><path clip-path=\"url(#clip590)\" d=\"M166.246 484.309 Q169.603 485.026 171.478 487.295 Q173.376 489.563 173.376 492.897 Q173.376 498.012 169.857 500.813 Q166.339 503.614 159.857 503.614 Q157.681 503.614 155.367 503.174 Q153.075 502.758 150.621 501.901 L150.621 497.387 Q152.566 498.522 154.88 499.1 Q157.195 499.679 159.718 499.679 Q164.117 499.679 166.408 497.943 Q168.723 496.207 168.723 492.897 Q168.723 489.841 166.57 488.128 Q164.441 486.392 160.621 486.392 L156.593 486.392 L156.593 482.549 L160.806 482.549 Q164.255 482.549 166.084 481.184 Q167.913 479.795 167.913 477.202 Q167.913 474.54 166.015 473.128 Q164.14 471.693 160.621 471.693 Q158.7 471.693 156.501 472.11 Q154.302 472.526 151.663 473.406 L151.663 469.239 Q154.325 468.499 156.64 468.128 Q158.978 467.758 161.038 467.758 Q166.362 467.758 169.464 470.188 Q172.566 472.596 172.566 476.716 Q172.566 479.587 170.922 481.577 Q169.279 483.545 166.246 484.309 Z\" fill=\"#000000\" fill-rule=\"evenodd\" fill-opacity=\"1\" /><path clip-path=\"url(#clip590)\" d=\"M182.288 468.383 L200.644 468.383 L200.644 472.318 L186.57 472.318 L186.57 480.79 Q187.589 480.443 188.607 480.281 Q189.626 480.096 190.644 480.096 Q196.431 480.096 199.811 483.267 Q203.19 486.438 203.19 491.855 Q203.19 497.434 199.718 500.536 Q196.246 503.614 189.927 503.614 Q187.751 503.614 185.482 503.244 Q183.237 502.873 180.829 502.133 L180.829 497.434 Q182.913 498.568 185.135 499.123 Q187.357 499.679 189.834 499.679 Q193.839 499.679 196.177 497.573 Q198.514 495.466 198.514 491.855 Q198.514 488.244 196.177 486.137 Q193.839 484.031 189.834 484.031 Q187.959 484.031 186.084 484.448 Q184.232 484.864 182.288 485.744 L182.288 468.383 Z\" fill=\"#000000\" fill-rule=\"evenodd\" fill-opacity=\"1\" /><path clip-path=\"url(#clip590)\" d=\"M50.9921 240.362 L80.6679 240.362 L80.6679 244.297 L50.9921 244.297 L50.9921 240.362 Z\" fill=\"#000000\" fill-rule=\"evenodd\" fill-opacity=\"1\" /><path clip-path=\"url(#clip590)\" d=\"M101.339 238.048 Q98.1909 238.048 96.3391 240.2 Q94.5104 242.353 94.5104 246.103 Q94.5104 249.83 96.3391 252.006 Q98.1909 254.159 101.339 254.159 Q104.487 254.159 106.316 252.006 Q108.168 249.83 108.168 246.103 Q108.168 242.353 106.316 240.2 Q104.487 238.048 101.339 238.048 M110.621 223.395 L110.621 227.654 Q108.862 226.821 107.057 226.381 Q105.274 225.941 103.515 225.941 Q98.8854 225.941 96.4317 229.066 Q94.0012 232.191 93.6539 238.51 Q95.0197 236.497 97.0798 235.432 Q99.14 234.344 101.617 234.344 Q106.825 234.344 109.834 237.515 Q112.867 240.663 112.867 246.103 Q112.867 251.427 109.719 254.645 Q106.571 257.862 101.339 257.862 Q95.3437 257.862 92.1725 253.279 Q89.0012 248.672 89.0012 239.946 Q89.0012 231.751 92.89 226.89 Q96.7789 222.006 103.33 222.006 Q105.089 222.006 106.871 222.353 Q108.677 222.7 110.621 223.395 Z\" fill=\"#000000\" fill-rule=\"evenodd\" fill-opacity=\"1\" /><path clip-path=\"url(#clip590)\" d=\"M119.742 222.631 L141.964 222.631 L141.964 224.622 L129.418 257.191 L124.533 257.191 L136.339 226.566 L119.742 226.566 L119.742 222.631 Z\" fill=\"#000000\" fill-rule=\"evenodd\" fill-opacity=\"1\" /><path clip-path=\"url(#clip590)\" d=\"M165.251 238.557 Q168.607 239.274 170.482 241.543 Q172.38 243.811 172.38 247.145 Q172.38 252.26 168.862 255.061 Q165.343 257.862 158.862 257.862 Q156.686 257.862 154.371 257.422 Q152.08 257.006 149.626 256.149 L149.626 251.635 Q151.57 252.77 153.885 253.348 Q156.2 253.927 158.723 253.927 Q163.121 253.927 165.413 252.191 Q167.728 250.455 167.728 247.145 Q167.728 244.089 165.575 242.376 Q163.445 240.64 159.626 240.64 L155.598 240.64 L155.598 236.798 L159.811 236.798 Q163.26 236.798 165.089 235.432 Q166.917 234.043 166.917 231.45 Q166.917 228.788 165.019 227.376 Q163.144 225.941 159.626 225.941 Q157.705 225.941 155.505 226.358 Q153.306 226.774 150.668 227.654 L150.668 223.487 Q153.33 222.747 155.644 222.376 Q157.982 222.006 160.042 222.006 Q165.367 222.006 168.468 224.436 Q171.57 226.844 171.57 230.964 Q171.57 233.835 169.927 235.825 Q168.283 237.793 165.251 238.557 Z\" fill=\"#000000\" fill-rule=\"evenodd\" fill-opacity=\"1\" /><path clip-path=\"url(#clip590)\" d=\"M191.246 225.71 Q187.635 225.71 185.806 229.274 Q184.001 232.816 184.001 239.946 Q184.001 247.052 185.806 250.617 Q187.635 254.159 191.246 254.159 Q194.88 254.159 196.686 250.617 Q198.514 247.052 198.514 239.946 Q198.514 232.816 196.686 229.274 Q194.88 225.71 191.246 225.71 M191.246 222.006 Q197.056 222.006 200.112 226.612 Q203.19 231.196 203.19 239.946 Q203.19 248.672 200.112 253.279 Q197.056 257.862 191.246 257.862 Q185.436 257.862 182.357 253.279 Q179.302 248.672 179.302 239.946 Q179.302 231.196 182.357 226.612 Q185.436 222.006 191.246 222.006 Z\" fill=\"#000000\" fill-rule=\"evenodd\" fill-opacity=\"1\" /><polyline clip-path=\"url(#clip592)\" style=\"stroke:#009af9; stroke-linecap:butt; stroke-linejoin:round; stroke-width:4; stroke-opacity:1; fill:none\" points=\"\n",
       "  299.008,240.537 398.705,192.301 498.401,152.641 598.098,121.956 697.794,100.659 797.491,89.1831 897.187,87.9763 996.884,97.5056 1096.58,118.256 1196.28,150.731 \n",
       "  1295.97,195.455 1395.67,252.968 1495.37,323.833 1595.06,408.634 1694.76,507.972 1794.46,622.473 1894.15,752.779 1993.85,899.559 2093.55,1063.5 2193.24,1245.31 \n",
       "  2292.94,1445.72 \n",
       "  \"/>\n",
       "<path clip-path=\"url(#clip590)\" d=\"\n",
       "M1995.03 216.178 L2282.3 216.178 L2282.3 95.2176 L1995.03 95.2176  Z\n",
       "  \" fill=\"#ffffff\" fill-rule=\"evenodd\" fill-opacity=\"1\"/>\n",
       "<polyline clip-path=\"url(#clip590)\" style=\"stroke:#000000; stroke-linecap:butt; stroke-linejoin:round; stroke-width:4; stroke-opacity:1; fill:none\" points=\"\n",
       "  1995.03,216.178 2282.3,216.178 2282.3,95.2176 1995.03,95.2176 1995.03,216.178 \n",
       "  \"/>\n",
       "<polyline clip-path=\"url(#clip590)\" style=\"stroke:#009af9; stroke-linecap:butt; stroke-linejoin:round; stroke-width:4; stroke-opacity:1; fill:none\" points=\"\n",
       "  2018.52,155.698 2159.42,155.698 \n",
       "  \"/>\n",
       "<path clip-path=\"url(#clip590)\" d=\"M2196.75 175.385 Q2194.94 180.015 2193.23 181.427 Q2191.52 182.839 2188.65 182.839 L2185.24 182.839 L2185.24 179.274 L2187.74 179.274 Q2189.5 179.274 2190.47 178.44 Q2191.45 177.607 2192.63 174.505 L2193.39 172.561 L2182.91 147.052 L2187.42 147.052 L2195.52 167.329 L2203.62 147.052 L2208.14 147.052 L2196.75 175.385 Z\" fill=\"#000000\" fill-rule=\"evenodd\" fill-opacity=\"1\" /><path clip-path=\"url(#clip590)\" d=\"M2215.43 169.042 L2223.07 169.042 L2223.07 142.677 L2214.76 144.343 L2214.76 140.084 L2223.02 138.418 L2227.7 138.418 L2227.7 169.042 L2235.34 169.042 L2235.34 172.978 L2215.43 172.978 L2215.43 169.042 Z\" fill=\"#000000\" fill-rule=\"evenodd\" fill-opacity=\"1\" /></svg>\n"
      ]
     },
     "execution_count": 32,
     "metadata": {},
     "output_type": "execute_result"
    }
   ],
   "source": [
    "plot(cg_fs, logliks)"
   ]
  },
  {
   "cell_type": "code",
   "execution_count": null,
   "id": "3fd2c85c",
   "metadata": {},
   "outputs": [],
   "source": [
    "This is the problem. I am clearly not finding the maximum."
   ]
  },
  {
   "cell_type": "code",
   "execution_count": null,
   "id": "187136ef",
   "metadata": {},
   "outputs": [],
   "source": []
  },
  {
   "cell_type": "code",
   "execution_count": 111,
   "id": "3efb6b58",
   "metadata": {},
   "outputs": [],
   "source": [
    "miniSARS2_forces2 = Dict{String, Float64}()\n",
    "for (i, nt) in enumerate(alphabet)\n",
    "    miniSARS2_forces2[nt] = log(freqs[i])\n",
    "end"
   ]
  },
  {
   "cell_type": "code",
   "execution_count": 113,
   "id": "0d361e75",
   "metadata": {},
   "outputs": [
    {
     "data": {
      "text/plain": [
       "Dict{String, Float64} with 4 entries:\n",
       "  \"A\" => -1.1881\n",
       "  \"T\" => -1.21268\n",
       "  \"C\" => -1.69827\n",
       "  \"G\" => -1.53805"
      ]
     },
     "execution_count": 113,
     "metadata": {},
     "output_type": "execute_result"
    }
   ],
   "source": [
    "miniSARS2_forces2"
   ]
  },
  {
   "cell_type": "code",
   "execution_count": 112,
   "id": "68a84ee6",
   "metadata": {},
   "outputs": [
    {
     "data": {
      "text/plain": [
       "-6819.694345504127"
      ]
     },
     "execution_count": 112,
     "metadata": {},
     "output_type": "execute_result"
    }
   ],
   "source": [
    "NoncodingForces_v2_1.compute_loglikelihood(string(miniSARS2), miniSARS2_forces2)"
   ]
  },
  {
   "cell_type": "code",
   "execution_count": null,
   "id": "1caddf08",
   "metadata": {},
   "outputs": [],
   "source": [
    "NoncodingForces_v2_1.compute_loglikelihood(string(miniSARS2), miniSARS2_forces2)"
   ]
  },
  {
   "cell_type": "code",
   "execution_count": null,
   "id": "36a8c1f6",
   "metadata": {},
   "outputs": [],
   "source": []
  },
  {
   "cell_type": "code",
   "execution_count": null,
   "id": "551849da",
   "metadata": {},
   "outputs": [],
   "source": []
  },
  {
   "cell_type": "code",
   "execution_count": 98,
   "id": "d727eec1",
   "metadata": {},
   "outputs": [
    {
     "data": {
      "text/plain": [
       "91"
      ]
     },
     "execution_count": 98,
     "metadata": {},
     "output_type": "execute_result"
    }
   ],
   "source": [
    "count(\"CG\", miniSARS2)"
   ]
  },
  {
   "cell_type": "code",
   "execution_count": 99,
   "id": "b0fbb907",
   "metadata": {},
   "outputs": [
    {
     "data": {
      "text/plain": [
       "83"
      ]
     },
     "execution_count": 99,
     "metadata": {},
     "output_type": "execute_result"
    }
   ],
   "source": [
    "count(\"CG\", minibat)"
   ]
  },
  {
   "cell_type": "code",
   "execution_count": 100,
   "id": "1c419868",
   "metadata": {},
   "outputs": [
    {
     "data": {
      "text/plain": [
       "1524"
      ]
     },
     "execution_count": 100,
     "metadata": {},
     "output_type": "execute_result"
    }
   ],
   "source": [
    "count(\"A\", miniSARS2)"
   ]
  },
  {
   "cell_type": "code",
   "execution_count": 101,
   "id": "8365f155",
   "metadata": {},
   "outputs": [
    {
     "data": {
      "text/plain": [
       "1522"
      ]
     },
     "execution_count": 101,
     "metadata": {},
     "output_type": "execute_result"
    }
   ],
   "source": [
    "count(\"A\", minibat)"
   ]
  },
  {
   "cell_type": "code",
   "execution_count": 102,
   "id": "9ccb2590",
   "metadata": {},
   "outputs": [
    {
     "data": {
      "text/plain": [
       "915"
      ]
     },
     "execution_count": 102,
     "metadata": {},
     "output_type": "execute_result"
    }
   ],
   "source": [
    "count(\"C\", miniSARS2)"
   ]
  },
  {
   "cell_type": "code",
   "execution_count": 103,
   "id": "5384a64f",
   "metadata": {},
   "outputs": [
    {
     "data": {
      "text/plain": [
       "914"
      ]
     },
     "execution_count": 103,
     "metadata": {},
     "output_type": "execute_result"
    }
   ],
   "source": [
    "count(\"C\", minibat)"
   ]
  },
  {
   "cell_type": "code",
   "execution_count": 104,
   "id": "a49635cd",
   "metadata": {},
   "outputs": [
    {
     "data": {
      "text/plain": [
       "1074"
      ]
     },
     "execution_count": 104,
     "metadata": {},
     "output_type": "execute_result"
    }
   ],
   "source": [
    "count(\"G\", miniSARS2)"
   ]
  },
  {
   "cell_type": "code",
   "execution_count": 105,
   "id": "7fbbd1ad",
   "metadata": {},
   "outputs": [
    {
     "data": {
      "text/plain": [
       "1061"
      ]
     },
     "execution_count": 105,
     "metadata": {},
     "output_type": "execute_result"
    }
   ],
   "source": [
    "count(\"G\", minibat)"
   ]
  },
  {
   "cell_type": "code",
   "execution_count": 107,
   "id": "4151c61a",
   "metadata": {},
   "outputs": [
    {
     "data": {
      "text/plain": [
       "1487"
      ]
     },
     "execution_count": 107,
     "metadata": {},
     "output_type": "execute_result"
    }
   ],
   "source": [
    "count(\"T\", miniSARS2)"
   ]
  },
  {
   "cell_type": "code",
   "execution_count": 106,
   "id": "a379732c",
   "metadata": {},
   "outputs": [
    {
     "data": {
      "text/plain": [
       "1503"
      ]
     },
     "execution_count": 106,
     "metadata": {},
     "output_type": "execute_result"
    }
   ],
   "source": [
    "count(\"T\", minibat)"
   ]
  },
  {
   "cell_type": "code",
   "execution_count": null,
   "id": "945de372",
   "metadata": {},
   "outputs": [],
   "source": []
  },
  {
   "cell_type": "code",
   "execution_count": null,
   "id": "1ca94a03",
   "metadata": {},
   "outputs": [],
   "source": []
  },
  {
   "cell_type": "code",
   "execution_count": 116,
   "id": "9fd3ec43",
   "metadata": {},
   "outputs": [],
   "source": [
    "# compute forces\n",
    "alphabet = [\"A\", \"C\", \"G\", \"T\"]\n",
    "motifs = Vector{String}()\n",
    "freqs = missing\n",
    "\n",
    "miniSARS2_forces = NoncodingForces_v2_1.DimerForce(string(miniSARS2), motifs; freqs=freqs, add_pseudocount=false)\n",
    "minibat_forces = NoncodingForces_v2_1.DimerForce(string(minibat), motifs; freqs=freqs, add_pseudocount=false)\n",
    ";"
   ]
  },
  {
   "cell_type": "code",
   "execution_count": 117,
   "id": "8c7c5c65",
   "metadata": {},
   "outputs": [
    {
     "data": {
      "text/plain": [
       "Dict{String, Float64} with 4 entries:\n",
       "  \"A\" => -1.1881\n",
       "  \"T\" => -1.21268\n",
       "  \"C\" => -1.69827\n",
       "  \"G\" => -1.53805"
      ]
     },
     "execution_count": 117,
     "metadata": {},
     "output_type": "execute_result"
    }
   ],
   "source": [
    "miniSARS2_forces"
   ]
  },
  {
   "cell_type": "code",
   "execution_count": 118,
   "id": "9282a97f",
   "metadata": {},
   "outputs": [
    {
     "data": {
      "text/plain": [
       "Dict{String, Float64} with 4 entries:\n",
       "  \"A\" => -1.18941\n",
       "  \"T\" => -1.20197\n",
       "  \"C\" => -1.69936\n",
       "  \"G\" => -1.55023"
      ]
     },
     "execution_count": 118,
     "metadata": {},
     "output_type": "execute_result"
    }
   ],
   "source": [
    "minibat_forces"
   ]
  },
  {
   "cell_type": "code",
   "execution_count": 119,
   "id": "20926864",
   "metadata": {},
   "outputs": [
    {
     "data": {
      "text/plain": [
       "-6819.694345504127"
      ]
     },
     "execution_count": 119,
     "metadata": {},
     "output_type": "execute_result"
    }
   ],
   "source": [
    "NoncodingForces_v2_1.compute_loglikelihood(string(miniSARS2), miniSARS2_forces)"
   ]
  },
  {
   "cell_type": "code",
   "execution_count": 120,
   "id": "5f1fcf2a",
   "metadata": {},
   "outputs": [
    {
     "data": {
      "text/plain": [
       "-6819.860991150563"
      ]
     },
     "execution_count": 120,
     "metadata": {},
     "output_type": "execute_result"
    }
   ],
   "source": [
    "NoncodingForces_v2_1.compute_loglikelihood(string(miniSARS2), minibat_forces)"
   ]
  },
  {
   "cell_type": "code",
   "execution_count": null,
   "id": "57e5c931",
   "metadata": {},
   "outputs": [],
   "source": []
  },
  {
   "cell_type": "markdown",
   "id": "f3b4ab1f",
   "metadata": {},
   "source": [
    "## Coding forces"
   ]
  },
  {
   "cell_type": "markdown",
   "id": "6812e5df",
   "metadata": {},
   "source": [
    "TODO"
   ]
  },
  {
   "cell_type": "code",
   "execution_count": null,
   "id": "0e7ffd6c",
   "metadata": {},
   "outputs": [],
   "source": []
  }
 ],
 "metadata": {
  "kernelspec": {
   "display_name": "Julia 1.6.0",
   "language": "julia",
   "name": "julia-1.6"
  },
  "language_info": {
   "file_extension": ".jl",
   "mimetype": "application/julia",
   "name": "julia",
   "version": "1.6.0"
  }
 },
 "nbformat": 4,
 "nbformat_minor": 5
}
